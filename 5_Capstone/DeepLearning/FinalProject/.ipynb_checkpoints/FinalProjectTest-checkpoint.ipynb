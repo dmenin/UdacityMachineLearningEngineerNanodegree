{
 "cells": [
  {
   "cell_type": "code",
   "execution_count": 1,
   "metadata": {
    "collapsed": false
   },
   "outputs": [],
   "source": [
    "import FinalProject as fp\n",
    "import FinalProjectAux as fpAux\n",
    "\n",
    "import numpy as np\n",
    "from scipy import ndimage\n",
    "import cv2"
   ]
  },
  {
   "cell_type": "code",
   "execution_count": 47,
   "metadata": {
    "collapsed": false
   },
   "outputs": [
    {
     "data": {
      "text/plain": [
       "<module 'FinalProject' from 'FinalProject.py'>"
      ]
     },
     "execution_count": 47,
     "metadata": {},
     "output_type": "execute_result"
    }
   ],
   "source": [
    "#reload(fp)"
   ]
  },
  {
   "cell_type": "code",
   "execution_count": 2,
   "metadata": {
    "collapsed": false
   },
   "outputs": [
    {
     "name": "stdout",
     "output_type": "stream",
     "text": [
      "Class Initialized\n"
     ]
    }
   ],
   "source": [
    "dTest = fp.DigitRecognition()"
   ]
  },
  {
   "cell_type": "code",
   "execution_count": 3,
   "metadata": {
    "collapsed": false
   },
   "outputs": [],
   "source": [
    "dTest.create_nn_model()"
   ]
  },
  {
   "cell_type": "code",
   "execution_count": 4,
   "metadata": {
    "collapsed": false
   },
   "outputs": [
    {
     "name": "stdout",
     "output_type": "stream",
     "text": [
      "Loading mydata/train-images-idx3-ubyte.mnist\n",
      "Loading mydata/train-labels-idx1-ubyte.mnist\n",
      "Loading mydata/t10k-images-idx3-ubyte.mnist\n",
      "Loading mydata/t10k-labels-idx1-ubyte.mnist\n"
     ]
    }
   ],
   "source": [
    "dTest.LoadDataSet()\n",
    "#dTest.ResetModelVariables()"
   ]
  },
  {
   "cell_type": "code",
   "execution_count": 53,
   "metadata": {
    "collapsed": false
   },
   "outputs": [],
   "source": [
    "saver = dTest.predict(100)"
   ]
  },
  {
   "cell_type": "code",
   "execution_count": 54,
   "metadata": {
    "collapsed": false
   },
   "outputs": [
    {
     "data": {
      "text/plain": [
       "6"
      ]
     },
     "execution_count": 54,
     "metadata": {},
     "output_type": "execute_result"
    }
   ],
   "source": [
    "saver[0][0]"
   ]
  },
  {
   "cell_type": "code",
   "execution_count": 55,
   "metadata": {
    "collapsed": false
   },
   "outputs": [],
   "source": [
    "fpAux.showSingleImage(dTest.mnist.test.images[100])"
   ]
  },
  {
   "cell_type": "code",
   "execution_count": 49,
   "metadata": {
    "collapsed": true
   },
   "outputs": [],
   "source": [
    "def getBestShift(img):\n",
    "    cy,cx = ndimage.measurements.center_of_mass(img)\n",
    "    print cy,cx\n",
    "\n",
    "    rows,cols = img.shape\n",
    "    shiftx = np.round(cols/2.0-cx).astype(int)\n",
    "    shifty = np.round(rows/2.0-cy).astype(int)\n",
    "\n",
    "    return shiftx,shifty\n",
    "\n",
    "\n",
    "def shift(img,sx,sy):\n",
    "    rows,cols = img.shape\n",
    "    M = np.float32([[1,0,sx],[0,1,sy]])\n",
    "    shifted = cv2.warpAffine(img,M,(cols,rows))\n",
    "    return shifted"
   ]
  },
  {
   "cell_type": "code",
   "execution_count": 50,
   "metadata": {
    "collapsed": true
   },
   "outputs": [],
   "source": [
    "image=\"five\""
   ]
  },
  {
   "cell_type": "code",
   "execution_count": 52,
   "metadata": {
    "collapsed": false
   },
   "outputs": [
    {
     "name": "stdout",
     "output_type": "stream",
     "text": [
      "------------------\n",
      "------------------\n",
      "13.8248217067 12.4700385277\n",
      "Prediction for  (25, 50, 100)\n",
      "[0.083903064727783208, 5]\n"
     ]
    },
    {
     "data": {
      "text/plain": [
       "True"
      ]
     },
     "execution_count": 52,
     "metadata": {},
     "output_type": "execute_result"
    }
   ],
   "source": [
    "\n",
    "# read original image\n",
    "color_complete = cv2.imread(\"img/\" + image + \".png\")\n",
    "\n",
    "gray_complete = cv2.imread(\"img/\" + image + \".png\", 0)\n",
    "_, gray_complete = cv2.threshold(255-gray_complete, 128, 255, cv2.THRESH_BINARY | cv2.THRESH_OTSU)\n",
    "digit_image = -np.ones(gray_complete.shape)\n",
    "\n",
    "height, width = gray_complete.shape\n",
    "\n",
    "\n",
    "\n",
    "\n",
    "for cropped_width in range(100, 300, 20):\n",
    "    for cropped_height in range(100, 300, 20):\n",
    "        for shift_x in range(0, width-cropped_width, cropped_width/4):\n",
    "            for shift_y in range(0, height-cropped_height, cropped_height/4):\n",
    "                gray = gray_complete[shift_y:shift_y+cropped_height,shift_x:shift_x + cropped_width]\n",
    "                if np.count_nonzero(gray) <= 20:\n",
    "                     continue\n",
    "\n",
    "                if (np.sum(gray[0]) != 0) or (np.sum(gray[:,0]) != 0) or (np.sum(gray[-1]) != 0) or (np.sum(gray[:,\n",
    "                                                                                                            -1]) != 0):\n",
    "                    continue\n",
    "\n",
    "                top_left = np.array([shift_y, shift_x])\n",
    "                bottom_right = np.array([shift_y+cropped_height, shift_x + cropped_width])\n",
    "\n",
    "                while np.sum(gray[0]) == 0:\n",
    "                    top_left[0] += 1\n",
    "                    gray = gray[1:]\n",
    "\n",
    "                while np.sum(gray[:,0]) == 0:\n",
    "                    top_left[1] += 1\n",
    "                    gray = np.delete(gray,0,1)\n",
    "\n",
    "                while np.sum(gray[-1]) == 0:\n",
    "                    bottom_right[0] -= 1\n",
    "                    gray = gray[:-1]\n",
    "\n",
    "                while np.sum(gray[:,-1]) == 0:\n",
    "                    bottom_right[1] -= 1\n",
    "                    gray = np.delete(gray,-1,1)\n",
    "\n",
    "                actual_w_h = bottom_right-top_left\n",
    "                if (np.count_nonzero(digit_image[top_left[0]:bottom_right[0],top_left[1]:bottom_right[1]]+1) >\n",
    "                            0.2*actual_w_h[0]*actual_w_h[1]):\n",
    "                    continue\n",
    "\n",
    "                print \"------------------\"\n",
    "                print \"------------------\"\n",
    "\n",
    "                rows,cols = gray.shape\n",
    "                compl_dif = abs(rows-cols)\n",
    "                half_Sm = compl_dif/2\n",
    "                half_Big = half_Sm if half_Sm*2 == compl_dif else half_Sm+1\n",
    "                if rows > cols:\n",
    "                    gray = np.lib.pad(gray,((0,0),(half_Sm,half_Big)),'constant')\n",
    "                else:\n",
    "                    gray = np.lib.pad(gray,((half_Sm,half_Big),(0,0)),'constant')\n",
    "\n",
    "                gray = cv2.resize(gray, (20, 20))\n",
    "                gray = np.lib.pad(gray,((4,4),(4,4)),'constant')\n",
    "\n",
    "\n",
    "                shiftx,shifty = getBestShift(gray)\n",
    "                \n",
    "                shifted = shift(gray,shiftx,shifty)\n",
    "                gray = shifted\n",
    "                gray = gray / 255.0\n",
    "\n",
    "                cv2.imwrite(\"img/\"+image+\"_\"+str(shift_x)+\"_\"+str(shift_y)+\".png\", gray)\n",
    "\n",
    "                \"\"\"\n",
    "                all images in the training set have an range from 0-1\n",
    "                and not from 0-255 so we divide our flatten images\n",
    "                (a one dimensional vector with our 784 pixels)\n",
    "                to use the same 0-1 based range\n",
    "                \"\"\"\n",
    "                #flatten = gray.flatten() / 255.0\n",
    "                #print flatten.shape\n",
    "\n",
    "\n",
    "                print \"Prediction for \",(shift_x, shift_y, cropped_width)\n",
    "                # print \"Pos\"\n",
    "                # print top_left\n",
    "                # print bottom_right\n",
    "                # print actual_w_h\n",
    "                # print \" \"\n",
    "                #print flatten\n",
    "                #prediction = [tf.reduce_max(y),tf.argmax(y,1)[0]]\n",
    "                #pred = sess.run(prediction, feed_dict={x: [flatten]})\n",
    "                pred = dTest.predict2(gray)\n",
    "                foo = gray\n",
    "                print pred\n",
    "\n",
    "\n",
    "                digit_image[top_left[0]:bottom_right[0],top_left[1]:bottom_right[1]] = pred[1]\n",
    "\n",
    "                cv2.rectangle(color_complete,tuple(top_left[::-1]),tuple(bottom_right[::-1]),color=(0,255,0),thickness=1)\n",
    "\n",
    "                font = cv2.FONT_HERSHEY_SIMPLEX\n",
    "                #value\n",
    "                cv2.putText(color_complete,str(pred[1]),(top_left[1],bottom_right[0]+40), font,fontScale=1.4,color=(0,255,0),thickness=1)\n",
    "                #percentage\n",
    "                #cv2.putText(color_complete,format(pred[0]*100,\".1f\")+\"%\",(top_left[1]+30,bottom_right[0]+50), font,fontScale=0.4,color=(0,255,0),thickness=1)\n",
    "                \n",
    "cv2.imwrite(\"img/\"+image+\"_digitized_image.png\", color_complete)           "
   ]
  },
  {
   "cell_type": "code",
   "execution_count": 43,
   "metadata": {
    "collapsed": false
   },
   "outputs": [
    {
     "name": "stdout",
     "output_type": "stream",
     "text": [
      "[[-6.35695171 -3.60678101 -3.20076132  0.41708598 -1.8244437   8.39030647\n",
      "   2.67770171 -3.83623695  3.06558299 -1.89205468]]\n"
     ]
    }
   ],
   "source": [
    "import operator\n",
    "saver = fp.tf.train.Saver()\n",
    "with fp.tf.Session() as sess:\n",
    "    saver.restore(sess, 'checkpoints/myModel')\n",
    "    image = np.expand_dims(foo, axis=2)\n",
    "    \n",
    "    #best = sess.run(dTest.Ylogits, feed_dict={dTest.X: [image], dTest.pkeep: 1.0})       \n",
    "\n",
    "    #prediction = [fp.tf.reduce_max(dTest.Ylogits),fp.tf.argmax(dTest.Ylogits,1)[0]]\n",
    "    #prediction = [fp.tf.argmax(dTest.Ylogits,1)[0]]\n",
    "    prediction = dTest.Ylogits\n",
    "    pred = sess.run(prediction, feed_dict={dTest.X: [image], dTest.pkeep: 1.0})    \n",
    "    print pred\n",
    "\n",
    "\n",
    "    \n",
    "\n",
    "\n",
    "        \n",
    "#             # returns probability and value\n",
    "#             index, value = max(enumerate(best[0]), key=operator.itemgetter(1))\n",
    "#             return [value/100,index]"
   ]
  },
  {
   "cell_type": "code",
   "execution_count": 46,
   "metadata": {
    "collapsed": false
   },
   "outputs": [
    {
     "data": {
      "text/plain": [
       "array([-6.35695171, -3.60678101, -3.20076132,  0.41708598, -1.8244437 ,\n",
       "        8.39030647,  2.67770171, -3.83623695,  3.06558299, -1.89205468], dtype=float32)"
      ]
     },
     "execution_count": 46,
     "metadata": {},
     "output_type": "execute_result"
    }
   ],
   "source": [
    "sum(pred)"
   ]
  },
  {
   "cell_type": "code",
   "execution_count": 105,
   "metadata": {
    "collapsed": false
   },
   "outputs": [],
   "source": [
    "xx=dTest.mnist.test.images[0]"
   ]
  },
  {
   "cell_type": "code",
   "execution_count": null,
   "metadata": {
    "collapsed": true
   },
   "outputs": [],
   "source": []
  },
  {
   "cell_type": "code",
   "execution_count": 121,
   "metadata": {
    "collapsed": false
   },
   "outputs": [
    {
     "data": {
      "text/plain": [
       "(28, 28)"
      ]
     },
     "execution_count": 121,
     "metadata": {},
     "output_type": "execute_result"
    }
   ],
   "source": [
    "foo.shape"
   ]
  },
  {
   "cell_type": "code",
   "execution_count": 122,
   "metadata": {
    "collapsed": false
   },
   "outputs": [],
   "source": [
    "foo2 = np.expand_dims(foo, axis=2)"
   ]
  },
  {
   "cell_type": "code",
   "execution_count": 21,
   "metadata": {
    "collapsed": false
   },
   "outputs": [],
   "source": [
    "saver = dTest.predict2(0)"
   ]
  },
  {
   "cell_type": "code",
   "execution_count": 22,
   "metadata": {
    "collapsed": false
   },
   "outputs": [
    {
     "data": {
      "text/plain": [
       "[13.704075, 7]"
      ]
     },
     "execution_count": 22,
     "metadata": {},
     "output_type": "execute_result"
    }
   ],
   "source": [
    "saver"
   ]
  },
  {
   "cell_type": "code",
   "execution_count": 10,
   "metadata": {
    "collapsed": true
   },
   "outputs": [],
   "source": []
  },
  {
   "cell_type": "code",
   "execution_count": 9,
   "metadata": {
    "collapsed": true
   },
   "outputs": [],
   "source": [
    "\n"
   ]
  },
  {
   "cell_type": "code",
   "execution_count": 10,
   "metadata": {
    "collapsed": false
   },
   "outputs": [
    {
     "name": "stdout",
     "output_type": "stream",
     "text": [
      "------------------\n",
      "------------------\n",
      "15.7733896645 12.9176463385\n",
      "Prediction for  (75, 200, 100)\n",
      "[0.089114532470703126, 6]\n",
      "------------------\n",
      "------------------\n",
      "14.9320513692 14.4068764014\n",
      "Prediction for  (100, 50, 100)\n",
      "[0.056376252174377445, 1]\n",
      "------------------\n",
      "------------------\n",
      "15.7825753582 13.6843341161\n",
      "Prediction for  (250, 50, 100)\n",
      "[0.12996856689453126, 2]\n",
      "------------------\n",
      "------------------\n",
      "11.6814630897 14.0494156119\n",
      "Prediction for  (250, 175, 100)\n",
      "[0.11251660346984864, 7]\n",
      "------------------\n",
      "------------------\n",
      "13.4305761439 15.0144283032\n",
      "Prediction for  (350, 50, 100)\n",
      "[0.1639767837524414, 3]\n",
      "------------------\n",
      "------------------\n",
      "13.8960159805 13.5078237709\n",
      "Prediction for  (350, 175, 100)\n",
      "[0.092684841156005865, 8]\n",
      "------------------\n",
      "------------------\n",
      "13.2479935795 14.1725521669\n",
      "Prediction for  (450, 50, 100)\n",
      "[0.11326857566833497, 4]\n",
      "------------------\n",
      "------------------\n",
      "12.8067939328 14.7637695369\n",
      "Prediction for  (450, 175, 100)\n",
      "[0.085754957199096676, 3]\n",
      "------------------\n",
      "------------------\n",
      "12.2441233141 12.7081888247\n",
      "Prediction for  (550, 25, 100)\n",
      "[0.17758913040161134, 5]\n",
      "------------------\n",
      "------------------\n",
      "13.0674492801 13.3612974476\n",
      "Prediction for  (550, 175, 100)\n",
      "[0.10985539436340332, 0]\n"
     ]
    },
    {
     "data": {
      "text/plain": [
       "True"
      ]
     },
     "execution_count": 10,
     "metadata": {},
     "output_type": "execute_result"
    }
   ],
   "source": []
  },
  {
   "cell_type": "code",
   "execution_count": 119,
   "metadata": {
    "collapsed": false
   },
   "outputs": [
    {
     "data": {
      "text/plain": [
       "'five'"
      ]
     },
     "execution_count": 119,
     "metadata": {},
     "output_type": "execute_result"
    }
   ],
   "source": [
    "image"
   ]
  },
  {
   "cell_type": "code",
   "execution_count": 7,
   "metadata": {
    "collapsed": true
   },
   "outputs": [],
   "source": []
  },
  {
   "cell_type": "code",
   "execution_count": null,
   "metadata": {
    "collapsed": true
   },
   "outputs": [],
   "source": []
  }
 ],
 "metadata": {
  "kernelspec": {
   "display_name": "Python [Root]",
   "language": "python",
   "name": "Python [Root]"
  },
  "language_info": {
   "codemirror_mode": {
    "name": "ipython",
    "version": 2
   },
   "file_extension": ".py",
   "mimetype": "text/x-python",
   "name": "python",
   "nbconvert_exporter": "python",
   "pygments_lexer": "ipython2",
   "version": "2.7.12"
  }
 },
 "nbformat": 4,
 "nbformat_minor": 0
}
