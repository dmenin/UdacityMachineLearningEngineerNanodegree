{
 "cells": [
  {
   "cell_type": "code",
   "execution_count": 1,
   "metadata": {
    "collapsed": true
   },
   "outputs": [],
   "source": [
    "import tensorflow as tf\n",
    "import input_data\n",
    "import cv2\n",
    "import numpy as np\n",
    "from scipy import ndimage\n",
    "import sys\n",
    "import os\n",
    "\n",
    "\n",
    "\n",
    "def getBestShift(img):\n",
    "    cy,cx = ndimage.measurements.center_of_mass(img)\n",
    "    print cy,cx\n",
    "\n",
    "    rows,cols = img.shape\n",
    "    shiftx = np.round(cols/2.0-cx).astype(int)\n",
    "    shifty = np.round(rows/2.0-cy).astype(int)\n",
    "\n",
    "    return shiftx,shifty\n",
    "\n",
    "\n",
    "def shift(img,sx,sy):\n",
    "    rows,cols = img.shape\n",
    "    M = np.float32([[1,0,sx],[0,1,sy]])\n",
    "    shifted = cv2.warpAffine(img,M,(cols,rows))\n",
    "    return shifted\n",
    "\n",
    "\n",
    "x = tf.placeholder(\"float\", [None, 784])\n",
    "\n",
    "W = tf.Variable(tf.zeros([784,10]))\n",
    "b = tf.Variable(tf.zeros([10]))\n",
    "\n",
    "\n",
    "\n",
    "y = tf.nn.softmax(tf.matmul(x,W) + b)\n",
    "y_ = tf.placeholder(\"float\", [None,10])\n",
    "\n",
    "\n",
    "cross_entropy = -tf.reduce_sum(y_*tf.log(y))\n",
    "train_step = tf.train.GradientDescentOptimizer(0.01).minimize(cross_entropy)\n",
    "\n",
    "\n",
    "\n",
    "image = sys.argv[1]\n",
    "train = False if len(sys.argv) == 2 else sys.argv[2]\n",
    "checkpoint_dir = \"cps/\"\n",
    "\n",
    "saver = tf.train.Saver()\n",
    "sess = tf.Session()\n",
    "\n",
    "sess.run(tf.initialize_all_variables())\n"
   ]
  },
  {
   "cell_type": "code",
   "execution_count": 2,
   "metadata": {
    "collapsed": false
   },
   "outputs": [
    {
     "name": "stdout",
     "output_type": "stream",
     "text": [
      "Extracting MNIST_data/train-images-idx3-ubyte.gz\n"
     ]
    },
    {
     "name": "stderr",
     "output_type": "stream",
     "text": [
      "/home/diego/anaconda2/lib/python2.7/gzip.py:275: VisibleDeprecationWarning: converting an array with ndim > 0 to an index will result in an error in the future\n",
      "  chunk = self.extrabuf[offset: offset + size]\n",
      "input_data.py:35: VisibleDeprecationWarning: converting an array with ndim > 0 to an index will result in an error in the future\n",
      "  data = data.reshape(num_images, rows, cols, 1)\n"
     ]
    },
    {
     "name": "stdout",
     "output_type": "stream",
     "text": [
      "Extracting MNIST_data/train-labels-idx1-ubyte.gz\n",
      "Extracting MNIST_data/t10k-images-idx3-ubyte.gz\n",
      "Extracting MNIST_data/t10k-labels-idx1-ubyte.gz\n",
      "accuracy:  0.9137\n"
     ]
    }
   ],
   "source": [
    "ckpt = tf.train.get_checkpoint_state(checkpoint_dir)\n",
    "if ckpt and ckpt.model_checkpoint_path:\n",
    "    saver.restore(sess, ckpt.model_checkpoint_path)\n",
    "else:\n",
    "    print 'No checkpoint found'\n",
    "    exit(1)\n",
    "\n",
    "mnist = input_data.read_data_sets(\"MNIST_data/\", one_hot=True)\n",
    "correct_prediction = tf.equal(tf.argmax(y, 1), tf.argmax(y_, 1))\n",
    "accuracy = tf.reduce_mean(tf.cast(correct_prediction, \"float\"))\n",
    "print \"accuracy: \", sess.run(accuracy, feed_dict={x: mnist.test.images, y_: mnist.test.labels})"
   ]
  },
  {
   "cell_type": "code",
   "execution_count": 37,
   "metadata": {
    "collapsed": true
   },
   "outputs": [],
   "source": [
    "image = \"five\""
   ]
  },
  {
   "cell_type": "code",
   "execution_count": 38,
   "metadata": {
    "collapsed": true
   },
   "outputs": [],
   "source": [
    "\n",
    "\n",
    "if not os.path.exists(\"img/\" + image + \".png\"):\n",
    "    print \"File img/\" + image + \".png doesn't exist\"\n",
    "    exit(1)\n",
    "\n",
    "\n"
   ]
  },
  {
   "cell_type": "code",
   "execution_count": null,
   "metadata": {
    "collapsed": true
   },
   "outputs": [],
   "source": []
  },
  {
   "cell_type": "code",
   "execution_count": 39,
   "metadata": {
    "collapsed": true
   },
   "outputs": [],
   "source": [
    "# read original image\n",
    "color_complete = cv2.imread(\"img/\" + image + \".png\")\n",
    "\n",
    "gray_complete = cv2.imread(\"img/\" + image + \".png\", 0)\n",
    "_, gray_complete = cv2.threshold(255-gray_complete, 128, 255, cv2.THRESH_BINARY | cv2.THRESH_OTSU)\n",
    "digit_image = -np.ones(gray_complete.shape)\n",
    "\n",
    "height, width = gray_complete.shape"
   ]
  },
  {
   "cell_type": "code",
   "execution_count": null,
   "metadata": {
    "collapsed": true
   },
   "outputs": [],
   "source": []
  },
  {
   "cell_type": "code",
   "execution_count": 40,
   "metadata": {
    "collapsed": false,
    "scrolled": true
   },
   "outputs": [
    {
     "name": "stdout",
     "output_type": "stream",
     "text": [
      "------------------\n",
      "------------------\n",
      "13.8248217067 12.4700385277\n",
      "Prediction for  (25, 50, 100)\n"
     ]
    },
    {
     "data": {
      "text/plain": [
       "True"
      ]
     },
     "execution_count": 40,
     "metadata": {},
     "output_type": "execute_result"
    }
   ],
   "source": [
    "for cropped_width in range(100, 300, 20):\n",
    "    for cropped_height in range(100, 300, 20):\n",
    "        for shift_x in range(0, width-cropped_width, cropped_width/4):\n",
    "            for shift_y in range(0, height-cropped_height, cropped_height/4):\n",
    "                gray = gray_complete[shift_y:shift_y+cropped_height,shift_x:shift_x + cropped_width]\n",
    "                if np.count_nonzero(gray) <= 20:\n",
    "                     continue\n",
    "\n",
    "                if (np.sum(gray[0]) != 0) or (np.sum(gray[:,0]) != 0) or (np.sum(gray[-1]) != 0) or (np.sum(gray[:,\n",
    "                                                                                                            -1]) != 0):\n",
    "                    continue\n",
    "\n",
    "                top_left = np.array([shift_y, shift_x])\n",
    "                bottom_right = np.array([shift_y+cropped_height, shift_x + cropped_width])\n",
    "\n",
    "                while np.sum(gray[0]) == 0:\n",
    "                    top_left[0] += 1\n",
    "                    gray = gray[1:]\n",
    "\n",
    "                while np.sum(gray[:,0]) == 0:\n",
    "                    top_left[1] += 1\n",
    "                    gray = np.delete(gray,0,1)\n",
    "\n",
    "                while np.sum(gray[-1]) == 0:\n",
    "                    bottom_right[0] -= 1\n",
    "                    gray = gray[:-1]\n",
    "\n",
    "                while np.sum(gray[:,-1]) == 0:\n",
    "                    bottom_right[1] -= 1\n",
    "                    gray = np.delete(gray,-1,1)\n",
    "\n",
    "                actual_w_h = bottom_right-top_left\n",
    "                if (np.count_nonzero(digit_image[top_left[0]:bottom_right[0],top_left[1]:bottom_right[1]]+1) >\n",
    "                            0.2*actual_w_h[0]*actual_w_h[1]):\n",
    "                    continue\n",
    "\n",
    "                print \"------------------\"\n",
    "                print \"------------------\"\n",
    "\n",
    "                rows,cols = gray.shape\n",
    "                compl_dif = abs(rows-cols)\n",
    "                half_Sm = compl_dif/2\n",
    "                half_Big = half_Sm if half_Sm*2 == compl_dif else half_Sm+1\n",
    "                if rows > cols:\n",
    "                    gray = np.lib.pad(gray,((0,0),(half_Sm,half_Big)),'constant')\n",
    "                else:\n",
    "                    gray = np.lib.pad(gray,((half_Sm,half_Big),(0,0)),'constant')\n",
    "\n",
    "                gray = cv2.resize(gray, (20, 20))\n",
    "                gray = np.lib.pad(gray,((4,4),(4,4)),'constant')\n",
    "\n",
    "\n",
    "                shiftx,shifty = getBestShift(gray)\n",
    "                shifted = shift(gray,shiftx,shifty)\n",
    "                gray = shifted\n",
    "\n",
    "                cv2.imwrite(\"img/\"+image+\"_\"+str(shift_x)+\"_\"+str(shift_y)+\".png\", gray)\n",
    "\n",
    "                \"\"\"\n",
    "                all images in the training set have an range from 0-1\n",
    "                and not from 0-255 so we divide our flatten images\n",
    "                (a one dimensional vector with our 784 pixels)\n",
    "                to use the same 0-1 based range\n",
    "                \"\"\"\n",
    "                flatten = gray.flatten() / 255.0\n",
    "\n",
    "\n",
    "                print \"Prediction for \",(shift_x, shift_y, cropped_width)\n",
    "                # print \"Pos\"\n",
    "                # print top_left\n",
    "                # print bottom_right\n",
    "                # print actual_w_h\n",
    "                # print \" \"\n",
    "                #print flatten\n",
    "                prediction = [tf.reduce_max(y),tf.argmax(y,1)[0]]\n",
    "                pred = sess.run(prediction, feed_dict={x: [flatten]})\n",
    "                #print pred\n",
    "\n",
    "\n",
    "                digit_image[top_left[0]:bottom_right[0],top_left[1]:bottom_right[1]] = pred[1]\n",
    "\n",
    "                cv2.rectangle(color_complete,tuple(top_left[::-1]),tuple(bottom_right[::-1]),color=(0,255,0),thickness=1)\n",
    "\n",
    "                font = cv2.FONT_HERSHEY_SIMPLEX\n",
    "                #value\n",
    "                cv2.putText(color_complete,str(pred[1]),(top_left[1],bottom_right[0]+40), font,fontScale=1.4,color=(0,255,0),thickness=1)\n",
    "                #percentage\n",
    "                cv2.putText(color_complete,format(pred[0]*100,\".1f\")+\"%\",(top_left[1]+30,bottom_right[0]+50), font,fontScale=0.4,color=(0,255,0),thickness=1)\n",
    "        \n",
    "        \n",
    "        \n",
    "cv2.imwrite(\"img/\"+image+\"_digitized_image.png\", color_complete)"
   ]
  },
  {
   "cell_type": "code",
   "execution_count": 27,
   "metadata": {
    "collapsed": false
   },
   "outputs": [
    {
     "data": {
      "text/plain": [
       "[0.68519998, 5]"
      ]
     },
     "execution_count": 27,
     "metadata": {},
     "output_type": "execute_result"
    }
   ],
   "source": [
    "pred"
   ]
  },
  {
   "cell_type": "code",
   "execution_count": null,
   "metadata": {
    "collapsed": true
   },
   "outputs": [],
   "source": []
  }
 ],
 "metadata": {
  "kernelspec": {
   "display_name": "Python [Root]",
   "language": "python",
   "name": "Python [Root]"
  },
  "language_info": {
   "codemirror_mode": {
    "name": "ipython",
    "version": 2
   },
   "file_extension": ".py",
   "mimetype": "text/x-python",
   "name": "python",
   "nbconvert_exporter": "python",
   "pygments_lexer": "ipython2",
   "version": "2.7.12"
  }
 },
 "nbformat": 4,
 "nbformat_minor": 0
}
