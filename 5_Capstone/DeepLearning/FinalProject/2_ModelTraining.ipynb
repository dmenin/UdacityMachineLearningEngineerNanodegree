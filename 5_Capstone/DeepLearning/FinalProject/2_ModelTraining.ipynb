{
 "cells": [
  {
   "cell_type": "code",
   "execution_count": 1,
   "metadata": {
    "collapsed": false
   },
   "outputs": [],
   "source": [
    "import FinalProject as fp"
   ]
  },
  {
   "cell_type": "code",
   "execution_count": 2,
   "metadata": {
    "collapsed": false
   },
   "outputs": [
    {
     "name": "stdout",
     "output_type": "stream",
     "text": [
      "Class Initialized\n"
     ]
    }
   ],
   "source": [
    "d = fp.DigitRecognition()"
   ]
  },
  {
   "cell_type": "code",
   "execution_count": 3,
   "metadata": {
    "collapsed": false
   },
   "outputs": [
    {
     "name": "stdout",
     "output_type": "stream",
     "text": [
      "Loading mydata/train-images-idx3-ubyte.mnist\n",
      "Loading mydata/train-labels-idx1-ubyte.mnist\n",
      "Loading mydata/t10k-images-idx3-ubyte.mnist\n",
      "Loading mydata/t10k-labels-idx1-ubyte.mnist\n"
     ]
    }
   ],
   "source": [
    "d.LoadDataSet()"
   ]
  },
  {
   "cell_type": "code",
   "execution_count": 6,
   "metadata": {
    "collapsed": false
   },
   "outputs": [],
   "source": [
    "d.create_nn_model()"
   ]
  },
  {
   "cell_type": "code",
   "execution_count": 9,
   "metadata": {
    "collapsed": false,
    "scrolled": false
   },
   "outputs": [
    {
     "name": "stdout",
     "output_type": "stream",
     "text": [
      "\n",
      "Starting Training\n",
      "    Train Iteration 0 (Lerning Rate:0.003): accuracy:0.07 loss: 237.649\n",
      "    Train Iteration 20 (Lerning Rate:0.00297114451787): accuracy:0.91 loss: 29.6397\n",
      "    Train Iteration 40 (Lerning Rate:0.00294257615259): accuracy:0.95 loss: 24.242\n",
      "    Train Iteration 60 (Lerning Rate:0.00291429204729): accuracy:0.91 loss: 24.4429\n",
      "    Train Iteration 80 (Lerning Rate:0.00288628937354): accuracy:0.99 loss: 4.91286\n",
      "    Train Iteration 100 (Lerning Rate:0.00285856533105): accuracy:0.92 loss: 20.6003\n",
      "Test Results: EPOCH 1 - Iteration: 100 Accuracy:0.9545 Test Loss: 14.4697  -  Accuracy Improvement - Saving Checkpoint\n"
     ]
    }
   ],
   "source": [
    "d.StartTraining(100)"
   ]
  },
  {
   "cell_type": "code",
   "execution_count": null,
   "metadata": {
    "collapsed": true
   },
   "outputs": [],
   "source": []
  }
 ],
 "metadata": {
  "kernelspec": {
   "display_name": "Python [Root]",
   "language": "python",
   "name": "Python [Root]"
  },
  "language_info": {
   "codemirror_mode": {
    "name": "ipython",
    "version": 2
   },
   "file_extension": ".py",
   "mimetype": "text/x-python",
   "name": "python",
   "nbconvert_exporter": "python",
   "pygments_lexer": "ipython2",
   "version": "2.7.12"
  }
 },
 "nbformat": 4,
 "nbformat_minor": 0
}
