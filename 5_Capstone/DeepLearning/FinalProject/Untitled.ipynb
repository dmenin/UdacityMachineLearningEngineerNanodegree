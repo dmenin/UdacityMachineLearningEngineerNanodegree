{
 "cells": [
  {
   "cell_type": "code",
   "execution_count": 7,
   "metadata": {
    "collapsed": true
   },
   "outputs": [],
   "source": [
    "import FinalProject as fp"
   ]
  },
  {
   "cell_type": "code",
   "execution_count": 8,
   "metadata": {
    "collapsed": false
   },
   "outputs": [
    {
     "name": "stdout",
     "output_type": "stream",
     "text": [
      "Class Initialized\n"
     ]
    }
   ],
   "source": [
    "dTest = fp.DigitRecognition()"
   ]
  },
  {
   "cell_type": "code",
   "execution_count": 11,
   "metadata": {
    "collapsed": true
   },
   "outputs": [],
   "source": [
    "dTest.ResetModelVariables()"
   ]
  },
  {
   "cell_type": "code",
   "execution_count": 12,
   "metadata": {
    "collapsed": true
   },
   "outputs": [],
   "source": [
    "dTest.create_nn_model()"
   ]
  },
  {
   "cell_type": "code",
   "execution_count": 13,
   "metadata": {
    "collapsed": false,
    "scrolled": true
   },
   "outputs": [
    {
     "name": "stdout",
     "output_type": "stream",
     "text": [
      "[[[[  3.77059774e-03   7.01129809e-02  -9.57664773e-02   1.79800734e-01\n",
      "     -1.01090096e-01  -1.09138809e-01]]\n",
      "\n",
      "  [[ -1.90391481e-01   1.99487060e-01   3.93879712e-02   6.45008385e-02\n",
      "     -1.29468858e-01  -1.33888006e-01]]\n",
      "\n",
      "  [[ -1.24368079e-01  -3.40848230e-02   8.33137408e-02   8.97837877e-02\n",
      "     -1.05603142e-02  -1.85519755e-02]]\n",
      "\n",
      "  [[ -2.00333536e-01  -1.12897918e-01  -7.21589997e-02   5.74559197e-02\n",
      "      1.62000075e-01  -6.19353727e-02]]\n",
      "\n",
      "  [[ -1.33876175e-01   1.24929473e-02  -3.37233432e-02   4.24002856e-02\n",
      "      1.79031387e-01  -3.12600546e-02]]\n",
      "\n",
      "  [[ -1.76903054e-01  -1.75681412e-02   6.67014299e-03   1.13166705e-01\n",
      "      1.23368084e-01  -1.05890036e-01]]]\n",
      "\n",
      "\n",
      " [[[ -8.19173008e-02  -4.27163765e-02   3.05311289e-02   1.44773230e-01\n",
      "     -2.96354089e-02  -3.14785540e-02]]\n",
      "\n",
      "  [[ -1.20526224e-01   1.05754770e-01   5.11529669e-02   1.56090960e-01\n",
      "      4.06759605e-02  -1.65756345e-01]]\n",
      "\n",
      "  [[ -3.19197446e-01   1.45680100e-01   1.53463840e-01   5.81554808e-02\n",
      "      4.65905927e-02  -2.55496800e-01]]\n",
      "\n",
      "  [[ -9.70796719e-02  -1.98064931e-02   2.29196101e-02   1.14662431e-01\n",
      "     -5.98529503e-02  -1.29258037e-01]]\n",
      "\n",
      "  [[ -6.96424246e-02   1.77510679e-02  -3.64159569e-02   1.84236392e-01\n",
      "     -1.36725873e-01  -1.78878427e-01]]\n",
      "\n",
      "  [[  6.86349720e-02  -1.77256495e-01   8.96489248e-02   4.37351502e-03\n",
      "      6.34582415e-02  -6.21375926e-02]]]\n",
      "\n",
      "\n",
      " [[[ -1.36354998e-01   2.93182414e-02   8.49704370e-02   1.50383636e-01\n",
      "     -6.09037653e-02   1.99354023e-01]]\n",
      "\n",
      "  [[ -9.85020995e-02   1.37585476e-01   2.12117195e-01   1.08732514e-01\n",
      "     -1.77131426e-02   1.19893961e-01]]\n",
      "\n",
      "  [[  2.83395369e-02   1.44158930e-01   3.72719653e-02   5.41504435e-02\n",
      "      7.11801499e-02  -1.56838596e-02]]\n",
      "\n",
      "  [[  6.76114112e-02  -4.19001505e-02  -4.47811745e-03   9.70852971e-02\n",
      "      3.62499356e-02  -5.78125678e-02]]\n",
      "\n",
      "  [[  2.04205830e-02  -1.57620564e-01   1.22129247e-02  -1.48633376e-01\n",
      "      4.67004962e-02  -1.40457675e-01]]\n",
      "\n",
      "  [[  1.07667856e-02   7.15478137e-02  -2.54456643e-02  -8.03170875e-02\n",
      "      2.25912169e-01   2.79981941e-02]]]\n",
      "\n",
      "\n",
      " [[[ -1.42031744e-01  -1.85357872e-02  -1.07858397e-01  -8.16012993e-02\n",
      "     -6.55403212e-02   1.86283246e-01]]\n",
      "\n",
      "  [[  3.01710591e-02   8.12365785e-02  -7.23942444e-02   9.69752148e-02\n",
      "     -4.10019234e-02   5.66321462e-02]]\n",
      "\n",
      "  [[ -8.11382309e-02  -2.92365998e-02  -5.88852651e-02   8.06549266e-02\n",
      "      1.76831454e-01   2.33752225e-02]]\n",
      "\n",
      "  [[ -8.86789057e-03   2.01432873e-03  -1.07005022e-01   6.70331866e-02\n",
      "      3.91793810e-02   9.33509842e-02]]\n",
      "\n",
      "  [[ -4.12650220e-02   1.33901417e-01  -6.23731762e-02  -1.28347337e-01\n",
      "     -4.24391255e-02  -6.20819516e-02]]\n",
      "\n",
      "  [[  1.74766146e-02  -3.14487319e-04   7.17135221e-02  -6.81926832e-02\n",
      "      1.76318780e-01   3.02731004e-02]]]\n",
      "\n",
      "\n",
      " [[[ -1.66651085e-02  -3.01963240e-02  -8.98166299e-02   5.73388115e-02\n",
      "      3.32778990e-02  -9.92959961e-02]]\n",
      "\n",
      "  [[ -1.08015053e-02  -8.73864889e-02  -2.46194065e-01   2.00668722e-02\n",
      "      1.39432430e-01  -7.38174468e-03]]\n",
      "\n",
      "  [[ -9.29231495e-02   5.23090437e-02  -1.19238451e-01  -1.16658844e-01\n",
      "      1.19126476e-01  -6.67273924e-02]]\n",
      "\n",
      "  [[  6.10518195e-02   1.15534946e-01  -8.18195120e-02  -5.83367795e-02\n",
      "      1.36559501e-01  -8.25995952e-03]]\n",
      "\n",
      "  [[  1.54394880e-01   5.89230061e-02   1.99103415e-01   3.66429687e-02\n",
      "      1.51038751e-01   2.64013588e-01]]\n",
      "\n",
      "  [[  2.31819034e-01   9.42799896e-02   1.19596973e-01  -1.89614907e-01\n",
      "      2.45857775e-01  -8.34697112e-02]]]\n",
      "\n",
      "\n",
      " [[[ -4.70050313e-02   1.20564289e-02  -1.15707695e-01  -2.11462334e-01\n",
      "      1.53076902e-01   8.93469006e-02]]\n",
      "\n",
      "  [[ -1.70495450e-01   1.34225218e-02   2.62826327e-02  -6.28078580e-02\n",
      "      4.16715331e-02  -1.24333203e-01]]\n",
      "\n",
      "  [[ -8.19254220e-02  -8.62550959e-02  -4.46034856e-02   2.81972438e-02\n",
      "      1.79921255e-01   1.70268357e-01]]\n",
      "\n",
      "  [[  1.59905091e-01  -6.35380894e-02   8.73998031e-02   9.37368721e-02\n",
      "      2.94593442e-02   1.92098781e-01]]\n",
      "\n",
      "  [[  2.09357649e-01  -6.77620387e-03   4.46410291e-02  -4.87801358e-02\n",
      "      3.47523727e-02  -2.03051716e-02]]\n",
      "\n",
      "  [[  1.03894487e-01  -1.41598731e-01   1.82021931e-01  -2.84937955e-02\n",
      "      2.59875715e-01   9.72525924e-02]]]]\n"
     ]
    }
   ],
   "source": [
    "saver = dTest.getSaver()"
   ]
  },
  {
   "cell_type": "code",
   "execution_count": 15,
   "metadata": {
    "collapsed": false
   },
   "outputs": [
    {
     "ename": "AttributeError",
     "evalue": "DigitRecognition instance has no attribute 'foo'",
     "output_type": "error",
     "traceback": [
      "\u001b[0;31m---------------------------------------------------------------------------\u001b[0m",
      "\u001b[0;31mAttributeError\u001b[0m                            Traceback (most recent call last)",
      "\u001b[0;32m<ipython-input-15-a5cd069caea9>\u001b[0m in \u001b[0;36m<module>\u001b[0;34m()\u001b[0m\n\u001b[0;32m----> 1\u001b[0;31m \u001b[0mdTest\u001b[0m\u001b[0;34m.\u001b[0m\u001b[0mfoo\u001b[0m\u001b[0;34m\u001b[0m\u001b[0m\n\u001b[0m",
      "\u001b[0;31mAttributeError\u001b[0m: DigitRecognition instance has no attribute 'foo'"
     ]
    }
   ],
   "source": [
    "dTest.foo"
   ]
  },
  {
   "cell_type": "code",
   "execution_count": 16,
   "metadata": {
    "collapsed": false
   },
   "outputs": [
    {
     "name": "stdout",
     "output_type": "stream",
     "text": [
      "Class Initialized\n"
     ]
    },
    {
     "ename": "AttributeError",
     "evalue": "DigitRecognition instance has no attribute 'mnist'",
     "output_type": "error",
     "traceback": [
      "\u001b[0;31m---------------------------------------------------------------------------\u001b[0m",
      "\u001b[0;31mAttributeError\u001b[0m                            Traceback (most recent call last)",
      "\u001b[0;32m<ipython-input-16-91310f0cfb1a>\u001b[0m in \u001b[0;36m<module>\u001b[0;34m()\u001b[0m\n\u001b[0;32m----> 1\u001b[0;31m \u001b[0mreload\u001b[0m\u001b[0;34m(\u001b[0m\u001b[0mfp\u001b[0m\u001b[0;34m)\u001b[0m\u001b[0;34m\u001b[0m\u001b[0m\n\u001b[0m",
      "\u001b[0;32m/home/diego/Documents/git/UdacityMachineLearningEngineerNanodegree/5_Capstone/DeepLearning/FinalProject/FinalProject.py\u001b[0m in \u001b[0;36m<module>\u001b[0;34m()\u001b[0m\n\u001b[1;32m    236\u001b[0m \u001b[0mdTest\u001b[0m\u001b[0;34m.\u001b[0m\u001b[0mcreate_nn_model\u001b[0m\u001b[0;34m(\u001b[0m\u001b[0;34m)\u001b[0m\u001b[0;34m\u001b[0m\u001b[0m\n\u001b[1;32m    237\u001b[0m \u001b[0;31m#saver = dTest.getSaver()\u001b[0m\u001b[0;34m\u001b[0m\u001b[0;34m\u001b[0m\u001b[0m\n\u001b[0;32m--> 238\u001b[0;31m \u001b[0;32mprint\u001b[0m \u001b[0mdTest\u001b[0m\u001b[0;34m.\u001b[0m\u001b[0mmnist\u001b[0m\u001b[0;34m\u001b[0m\u001b[0m\n\u001b[0m",
      "\u001b[0;31mAttributeError\u001b[0m: DigitRecognition instance has no attribute 'mnist'"
     ]
    }
   ],
   "source": [
    "reload(fp)"
   ]
  },
  {
   "cell_type": "code",
   "execution_count": null,
   "metadata": {
    "collapsed": true
   },
   "outputs": [],
   "source": []
  }
 ],
 "metadata": {
  "kernelspec": {
   "display_name": "Python [Root]",
   "language": "python",
   "name": "Python [Root]"
  },
  "language_info": {
   "codemirror_mode": {
    "name": "ipython",
    "version": 2
   },
   "file_extension": ".py",
   "mimetype": "text/x-python",
   "name": "python",
   "nbconvert_exporter": "python",
   "pygments_lexer": "ipython2",
   "version": "2.7.12"
  }
 },
 "nbformat": 4,
 "nbformat_minor": 0
}
