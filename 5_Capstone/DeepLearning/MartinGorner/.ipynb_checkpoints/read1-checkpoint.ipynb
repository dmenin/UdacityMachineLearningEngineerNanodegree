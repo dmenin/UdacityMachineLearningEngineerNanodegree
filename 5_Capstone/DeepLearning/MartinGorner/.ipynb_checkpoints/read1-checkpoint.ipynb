{
 "cells": [
  {
   "cell_type": "code",
   "execution_count": 1,
   "metadata": {
    "collapsed": false,
    "scrolled": true
   },
   "outputs": [
    {
     "name": "stdout",
     "output_type": "stream",
     "text": [
      "Loading mydata/train-images-idx3-ubyte.mnist\n",
      "Loading mydata/train-labels-idx1-ubyte.mnist\n",
      "Loading mydata/t10k-images-idx3-ubyte.mnist\n",
      "Loading mydata/t10k-labels-idx1-ubyte.mnist\n"
     ]
    }
   ],
   "source": [
    "import mnist_data\n",
    "import tensorflow as tf\n",
    "import tensorflowvisu\n",
    "import math\n",
    "tf.set_random_seed(0)\n",
    "\n",
    "mnist = mnist_data.read_data_sets(\"mydata\")\n"
   ]
  },
  {
   "cell_type": "code",
   "execution_count": 2,
   "metadata": {
    "collapsed": false
   },
   "outputs": [],
   "source": [
    "foo  = mnist.test.images\n",
    "foo0 = foo[0]"
   ]
  },
  {
   "cell_type": "code",
   "execution_count": 3,
   "metadata": {
    "collapsed": false
   },
   "outputs": [
    {
     "data": {
      "text/plain": [
       "numpy.ndarray"
      ]
     },
     "execution_count": 3,
     "metadata": {},
     "output_type": "execute_result"
    }
   ],
   "source": [
    "type(foo0)"
   ]
  },
  {
   "cell_type": "code",
   "execution_count": 4,
   "metadata": {
    "collapsed": false
   },
   "outputs": [
    {
     "data": {
      "text/plain": [
       "(10000, 28, 28, 1)"
      ]
     },
     "execution_count": 4,
     "metadata": {},
     "output_type": "execute_result"
    }
   ],
   "source": [
    "foo.shape"
   ]
  },
  {
   "cell_type": "code",
   "execution_count": 5,
   "metadata": {
    "collapsed": true
   },
   "outputs": [],
   "source": [
    "import struct\n",
    "from matplotlib import pyplot as plt"
   ]
  },
  {
   "cell_type": "code",
   "execution_count": 12,
   "metadata": {
    "collapsed": true
   },
   "outputs": [],
   "source": [
    "#http://feltes.ch/index.php/2015/09/20/mnist-handwritten-digits-database-decoding-with-python/\n",
    "def read_images(images_name):\n",
    "    #returns an array of flattened images\n",
    "    f = open(images_name, \"rb\")\n",
    "    ds_images = []\n",
    "    #Let's read the head of the file encoded in 32-bit integers in big-endian(4 bytes)\n",
    "    mw_32bit = f.read(4)        #magic word\n",
    "    n_numbers_32bit = f.read(4) #number of images\n",
    "    n_rows_32bit = f.read(4)    #number of rows of each image\n",
    "    n_columns_32bit = f.read(4) #number of columns of each image\n",
    "    \n",
    "    #convert it to integers ; '>i' for big endian encoding\n",
    "    mw =  struct.unpack('>i',mw_32bit)[0] \n",
    "    n_numbers = struct.unpack('>i',n_numbers_32bit)[0] \n",
    "    n_rows = struct.unpack('>i',n_rows_32bit)[0]\n",
    "    n_columns = struct.unpack('>i',n_columns_32bit)[0]\n",
    "    \n",
    "    try:\n",
    "        for i in range(n_numbers):\n",
    "            image = []\n",
    "            for r in range(n_rows):\n",
    "                for l in range(n_columns):\n",
    "                    byte = f.read(1)\n",
    "                    pixel = struct.unpack('B',byte[0])[0]\n",
    "                    image.append(pixel)            \n",
    "            ds_images.append(image)\n",
    "        \n",
    "    finally:\n",
    "        f.close()\n",
    "    return ds_images"
   ]
  },
  {
   "cell_type": "code",
   "execution_count": 13,
   "metadata": {
    "collapsed": true
   },
   "outputs": [],
   "source": [
    "def read_labels(labels_name):\n",
    "    #returns an array of labels\n",
    "    f = open(labels_name, \"rb\")\n",
    "    ds_labels = []\n",
    "    #Let's read the head of the file encoded in 32-bit integers in big-endian(4 bytes)\n",
    "    mw_32bit = f.read(4)        #magic word\n",
    "    n_numbers_32bit = f.read(4) #number of labels\n",
    "    \n",
    "    #convert it to integers ; '>i' for big endian encoding\n",
    "    mw =  struct.unpack('>i',mw_32bit)[0] \n",
    "    n_numbers = struct.unpack('>i',n_numbers_32bit)[0] \n",
    "    \n",
    "    try:\n",
    "        for i in range(n_numbers):\n",
    "            byte = f.read(1)\n",
    "            label = struct.unpack('B',byte[0])[0]      \n",
    "            ds_labels.append(label)\n",
    "        \n",
    "    finally:\n",
    "        f.close()\n",
    "    return ds_labels"
   ]
  },
  {
   "cell_type": "code",
   "execution_count": 14,
   "metadata": {
    "collapsed": true
   },
   "outputs": [],
   "source": [
    "import struct\n",
    "import numpy\n",
    "from matplotlib import pyplot as plt\n",
    "import pylab\n",
    "def read_dataset(images_name,labels_name):\n",
    "    #reads an image-file and a labels file, and returns an array of tuples of\n",
    "    #(flattened_image, label)\n",
    "    images = read_images(images_name)\n",
    "    labels = read_labels(labels_name)\n",
    "    assert len(images) == len(labels)\n",
    "    return zip(images,labels)"
   ]
  },
  {
   "cell_type": "code",
   "execution_count": 15,
   "metadata": {
    "collapsed": false
   },
   "outputs": [],
   "source": [
    "testset = read_dataset(\"mydata/t10k-images-idx3-ubyte.mnist\",\"mydata/t10k-labels-idx1-ubyte.mnist\")\n",
    "#read_images(\"t10k-images.idx3-ubyte\")\n",
    "#trainingset = read_dataset(\"train-images.idx3-ubyte\",\"train-labels.idx1-ubyte\")\n"
   ]
  },
  {
   "cell_type": "code",
   "execution_count": 23,
   "metadata": {
    "collapsed": false
   },
   "outputs": [],
   "source": [
    "sp = fig.add_subplot(10,5,i+1)\n",
    "sp.set_title(dataset[0][1])\n",
    "image = numpy.array(dataset[0][0]).reshape(28,28)\n",
    "plt.imshow(image,interpolation='none',cmap=pylab.gray(),label=dataset[0][1])\n",
    "plt.show()"
   ]
  },
  {
   "cell_type": "code",
   "execution_count": 26,
   "metadata": {
    "collapsed": false
   },
   "outputs": [],
   "source": [
    "image = numpy.array(dataset[0][0]).reshape(28,28)"
   ]
  },
  {
   "cell_type": "code",
   "execution_count": 73,
   "metadata": {
    "collapsed": false
   },
   "outputs": [],
   "source": [
    "image = numpy.array(foo0).reshape(28,28)"
   ]
  },
  {
   "cell_type": "code",
   "execution_count": 37,
   "metadata": {
    "collapsed": true
   },
   "outputs": [],
   "source": [
    "dataset = foo"
   ]
  },
  {
   "cell_type": "code",
   "execution_count": 125,
   "metadata": {
    "collapsed": true
   },
   "outputs": [],
   "source": []
  },
  {
   "cell_type": "code",
   "execution_count": 126,
   "metadata": {
    "collapsed": false
   },
   "outputs": [],
   "source": []
  },
  {
   "cell_type": "code",
   "execution_count": 84,
   "metadata": {
    "collapsed": false
   },
   "outputs": [
    {
     "data": {
      "text/plain": [
       "7"
      ]
     },
     "execution_count": 84,
     "metadata": {},
     "output_type": "execute_result"
    }
   ],
   "source": []
  },
  {
   "cell_type": "code",
   "execution_count": 96,
   "metadata": {
    "collapsed": false
   },
   "outputs": [],
   "source": [
    "image = numpy.array(dataset[0][0]).reshape(28,28)"
   ]
  },
  {
   "cell_type": "code",
   "execution_count": 98,
   "metadata": {
    "collapsed": false
   },
   "outputs": [
    {
     "data": {
      "text/plain": [
       "9"
      ]
     },
     "execution_count": 98,
     "metadata": {},
     "output_type": "execute_result"
    }
   ],
   "source": [
    "dataset[i][1]"
   ]
  },
  {
   "cell_type": "code",
   "execution_count": 119,
   "metadata": {
    "collapsed": false
   },
   "outputs": [
    {
     "data": {
      "text/plain": [
       "9"
      ]
     },
     "execution_count": 119,
     "metadata": {},
     "output_type": "execute_result"
    }
   ],
   "source": []
  },
  {
   "cell_type": "code",
   "execution_count": 155,
   "metadata": {
    "collapsed": false
   },
   "outputs": [],
   "source": [
    "def showImages(images, labels, amt):\n",
    "    if amt >30:\n",
    "        amt=30\n",
    "        \n",
    "    fig = plt.figure(figsize=(10,20))\n",
    "    for i in range(amt):\n",
    "        sp = fig.add_subplot(10,5,i+1)\n",
    "        l = [j for j, x in enumerate(labels[i]) if x][0]\n",
    "        sp.set_title(l)\n",
    "        plt.axis('off')\n",
    "        image = numpy.array(images[i]).reshape(28,28)\n",
    "        plt.imshow(image,interpolation='none',cmap=pylab.gray(),label=l)\n",
    "    plt.show()    \n",
    "\n",
    "def showSingleImage(image):\n",
    "    image = numpy.array(image).reshape(28,28)\n",
    "    plt.imshow(image,interpolation='none',cmap=pylab.gray())\n",
    "    plt.show()"
   ]
  },
  {
   "cell_type": "code",
   "execution_count": 140,
   "metadata": {
    "collapsed": false
   },
   "outputs": [],
   "source": [
    "showImages(mnist.test.images, mnist.test.labels, 10)"
   ]
  },
  {
   "cell_type": "code",
   "execution_count": 156,
   "metadata": {
    "collapsed": false
   },
   "outputs": [],
   "source": [
    "showSingleImage(mnist.test.images[1])"
   ]
  }
 ],
 "metadata": {
  "kernelspec": {
   "display_name": "Python [Root]",
   "language": "python",
   "name": "Python [Root]"
  },
  "language_info": {
   "codemirror_mode": {
    "name": "ipython",
    "version": 2
   },
   "file_extension": ".py",
   "mimetype": "text/x-python",
   "name": "python",
   "nbconvert_exporter": "python",
   "pygments_lexer": "ipython2",
   "version": "2.7.12"
  }
 },
 "nbformat": 4,
 "nbformat_minor": 0
}
