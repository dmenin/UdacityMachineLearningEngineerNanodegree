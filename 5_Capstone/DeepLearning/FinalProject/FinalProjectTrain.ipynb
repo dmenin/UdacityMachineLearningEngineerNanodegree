{
 "cells": [
  {
   "cell_type": "code",
   "execution_count": 1,
   "metadata": {
    "collapsed": false
   },
   "outputs": [],
   "source": [
    "import FinalProject as fp"
   ]
  },
  {
   "cell_type": "code",
   "execution_count": 2,
   "metadata": {
    "collapsed": false
   },
   "outputs": [],
   "source": [
    "#reload (fp)"
   ]
  },
  {
   "cell_type": "code",
   "execution_count": 2,
   "metadata": {
    "collapsed": false
   },
   "outputs": [
    {
     "name": "stdout",
     "output_type": "stream",
     "text": [
      "Class Initialized\n"
     ]
    }
   ],
   "source": [
    "d = fp.DigitRecognition()"
   ]
  },
  {
   "cell_type": "code",
   "execution_count": 3,
   "metadata": {
    "collapsed": false
   },
   "outputs": [
    {
     "name": "stdout",
     "output_type": "stream",
     "text": [
      "Loading mydata/train-images-idx3-ubyte.mnist\n",
      "Loading mydata/train-labels-idx1-ubyte.mnist\n",
      "Loading mydata/t10k-images-idx3-ubyte.mnist\n",
      "Loading mydata/t10k-labels-idx1-ubyte.mnist\n"
     ]
    }
   ],
   "source": [
    "d.LoadDataSet()"
   ]
  },
  {
   "cell_type": "code",
   "execution_count": 5,
   "metadata": {
    "collapsed": true
   },
   "outputs": [],
   "source": [
    "#d.ResetModelVariables()"
   ]
  },
  {
   "cell_type": "code",
   "execution_count": 4,
   "metadata": {
    "collapsed": false
   },
   "outputs": [],
   "source": [
    "d.create_nn_model()"
   ]
  },
  {
   "cell_type": "code",
   "execution_count": 5,
   "metadata": {
    "collapsed": false
   },
   "outputs": [
    {
     "data": {
      "text/plain": [
       "[u'W1', u'B1', u'W2', u'B2', u'W3', u'B3', u'W4', u'B4', u'W5', u'B5']"
      ]
     },
     "execution_count": 5,
     "metadata": {},
     "output_type": "execute_result"
    }
   ],
   "source": [
    "d.DisplayModelVariables()"
   ]
  },
  {
   "cell_type": "code",
   "execution_count": 9,
   "metadata": {
    "collapsed": false
   },
   "outputs": [
    {
     "name": "stdout",
     "output_type": "stream",
     "text": [
      "Variables: [u'W1', u'B1', u'W2', u'B2', u'W3', u'B3', u'W4', u'B4', u'W5', u'B5', u'beta1_power', u'beta2_power', u'W1/Adam', u'W1/Adam_1', u'B1/Adam', u'B1/Adam_1', u'W2/Adam', u'W2/Adam_1', u'B2/Adam', u'B2/Adam_1', u'W3/Adam', u'W3/Adam_1', u'B3/Adam', u'B3/Adam_1', u'W4/Adam', u'W4/Adam_1', u'B4/Adam', u'B4/Adam_1', u'W5/Adam', u'W5/Adam_1', u'B5/Adam', u'B5/Adam_1']\n",
      "0: accuracy:0.06 loss: 249.855 (lr:0.003)\n",
      "0: ********* epoch 1 ********* test accuracy:0.0645 test loss: 245.243\n",
      "20: accuracy:0.87 loss: 65.9533 (lr:0.00297114451787)\n",
      "40: accuracy:0.88 loss: 37.7268 (lr:0.00294257615259)\n",
      "60: accuracy:0.94 loss: 16.9184 (lr:0.00291429204729)\n",
      "80: accuracy:0.94 loss: 19.6467 (lr:0.00288628937354)\n",
      "100: accuracy:0.94 loss: 19.7537 (lr:0.00285856533105)\n",
      "100: ********* epoch 1 ********* test accuracy:0.9369 test loss: 22.1591\n"
     ]
    }
   ],
   "source": [
    "#TRAINING\n",
    "d.StartTraining(100)"
   ]
  },
  {
   "cell_type": "code",
   "execution_count": 10,
   "metadata": {
    "collapsed": false
   },
   "outputs": [
    {
     "data": {
      "text/plain": [
       "<tensorflow.python.ops.variables.Variable at 0x7f5ab4d5c810>"
      ]
     },
     "execution_count": 10,
     "metadata": {},
     "output_type": "execute_result"
    }
   ],
   "source": []
  },
  {
   "cell_type": "code",
   "execution_count": 5,
   "metadata": {
    "collapsed": false
   },
   "outputs": [],
   "source": [
    "saver = fp.tf.train.Saver()"
   ]
  },
  {
   "cell_type": "code",
   "execution_count": 6,
   "metadata": {
    "collapsed": false
   },
   "outputs": [
    {
     "data": {
      "text/plain": [
       "[u'W1', u'B1', u'W2', u'B2', u'W3', u'B3', u'W4', u'B4', u'W5', u'B5']"
      ]
     },
     "execution_count": 6,
     "metadata": {},
     "output_type": "execute_result"
    }
   ],
   "source": [
    "([v.op.name for v in fp.tf.all_variables()])"
   ]
  },
  {
   "cell_type": "code",
   "execution_count": 56,
   "metadata": {
    "collapsed": true
   },
   "outputs": [],
   "source": [
    "#tf.reset_default_graph() "
   ]
  },
  {
   "cell_type": "code",
   "execution_count": 10,
   "metadata": {
    "collapsed": false,
    "scrolled": true
   },
   "outputs": [
    {
     "name": "stdout",
     "output_type": "stream",
     "text": [
      "[[[[-0.02115657  0.03520161  0.00819837 -0.06452606 -0.08437051  0.09891038]]\n",
      "\n",
      "  [[-0.04156521 -0.01284502 -0.0598077  -0.11632653 -0.10910994  0.13673028]]\n",
      "\n",
      "  [[-0.00955042 -0.01346881  0.14497247  0.03063136 -0.00107064  0.10663541]]\n",
      "\n",
      "  [[ 0.0988976  -0.06364649  0.17184064 -0.1633279  -0.19966076 -0.09478993]]\n",
      "\n",
      "  [[-0.1115704   0.23911633 -0.01627478 -0.07697462 -0.09897471 -0.12114099]]\n",
      "\n",
      "  [[-0.02541327  0.10410011  0.0502089  -0.02212091  0.05662746 -0.15746063]]]\n",
      "\n",
      "\n",
      " [[[-0.02011288  0.09439781  0.00215353 -0.01581034  0.03313693  0.01982349]]\n",
      "\n",
      "  [[-0.11597306 -0.01333761  0.11710901  0.03772597 -0.19236463  0.05214006]]\n",
      "\n",
      "  [[ 0.0059426  -0.02085669  0.08543755 -0.11999221  0.04045146  0.00153505]]\n",
      "\n",
      "  [[-0.02997066  0.02812305  0.19359016 -0.07964794 -0.04151425  0.03387735]]\n",
      "\n",
      "  [[ 0.02781948  0.0283102   0.14876242  0.03916391 -0.12736864 -0.16509809]]\n",
      "\n",
      "  [[ 0.00361586  0.03528702  0.03894098  0.0431024   0.01007389 -0.19362843]]]\n",
      "\n",
      "\n",
      " [[[ 0.12080944  0.1369565   0.08795745 -0.09466482 -0.07378478  0.04801594]]\n",
      "\n",
      "  [[-0.09957127  0.01746007 -0.00619816 -0.01689468 -0.00299458 -0.07901122]]\n",
      "\n",
      "  [[-0.17684624  0.08928018  0.19096711 -0.13338168 -0.13630098 -0.06149805]]\n",
      "\n",
      "  [[-0.0218297  -0.06202772  0.06708164  0.08207453 -0.00720009 -0.11005407]]\n",
      "\n",
      "  [[ 0.13798088  0.02672747  0.14507167 -0.00133613  0.01334712  0.03827042]]\n",
      "\n",
      "  [[-0.03407829  0.21481039 -0.02589591  0.1012919  -0.11646777 -0.04395855]]]\n",
      "\n",
      "\n",
      " [[[-0.07290597  0.11294422 -0.00623555 -0.02525616  0.02022664 -0.13463923]]\n",
      "\n",
      "  [[-0.03472721 -0.04541277  0.03136566 -0.06375924 -0.09653195 -0.10937352]]\n",
      "\n",
      "  [[ 0.09978972 -0.19561891  0.06713839  0.07024097 -0.05347404 -0.02624648]]\n",
      "\n",
      "  [[ 0.10314807  0.03142093  0.07914402 -0.03740022  0.09632666  0.07910123]]\n",
      "\n",
      "  [[ 0.10067217 -0.07998913  0.02262625 -0.10523541  0.05413956 -0.19660196]]\n",
      "\n",
      "  [[ 0.05720006  0.02877023 -0.05294859 -0.1054496   0.1056781  -0.10584292]]]\n",
      "\n",
      "\n",
      " [[[ 0.11102013 -0.08040319  0.09127156  0.02435265  0.09842972  0.04332998]]\n",
      "\n",
      "  [[ 0.04241134 -0.0461987   0.15118048  0.02169831  0.02545885 -0.20931269]]\n",
      "\n",
      "  [[ 0.20381995 -0.07935987 -0.01607704  0.05793984  0.03514396 -0.20904221]]\n",
      "\n",
      "  [[ 0.05528007 -0.12171872 -0.06729822  0.07761987 -0.15241235 -0.03227129]]\n",
      "\n",
      "  [[ 0.1273924  -0.02040854  0.10963385  0.12449113  0.01799971 -0.01889547]]\n",
      "\n",
      "  [[-0.01673082  0.01076948 -0.07725468  0.00127033 -0.00511784  0.06140034]]]\n",
      "\n",
      "\n",
      " [[[ 0.04170682 -0.07183515  0.03649984  0.02578408  0.02094754 -0.09499049]]\n",
      "\n",
      "  [[ 0.03236351 -0.09955172  0.02513572  0.0735643  -0.03838707  0.00909186]]\n",
      "\n",
      "  [[ 0.10294872 -0.1100149   0.10345056  0.12331234 -0.00496883 -0.03925332]]\n",
      "\n",
      "  [[ 0.09488605  0.04436308  0.10035913  0.11289307 -0.15721339 -0.05468433]]\n",
      "\n",
      "  [[-0.04564212  0.01673697  0.05686659  0.22830659 -0.10704029 -0.05016047]]\n",
      "\n",
      "  [[ 0.06282731 -0.1465726   0.03792838  0.11943066 -0.15789288 -0.09747702]]]]\n"
     ]
    }
   ],
   "source": [
    "with fp.tf.Session() as sess:\n",
    "    saver.restore(sess,'checkpoints/myModel')\n",
    "    print sess.run(fp.W1)"
   ]
  },
  {
   "cell_type": "code",
   "execution_count": 11,
   "metadata": {
    "collapsed": false
   },
   "outputs": [
    {
     "name": "stdout",
     "output_type": "stream",
     "text": [
      "Class Initialized\n"
     ]
    }
   ],
   "source": [
    "dTest = fp.DigitRecognition()"
   ]
  },
  {
   "cell_type": "code",
   "execution_count": 12,
   "metadata": {
    "collapsed": false
   },
   "outputs": [],
   "source": [
    "dTest.create_nn_model()"
   ]
  },
  {
   "cell_type": "code",
   "execution_count": 14,
   "metadata": {
    "collapsed": false
   },
   "outputs": [
    {
     "ename": "AttributeError",
     "evalue": "DigitRecognition instance has no attribute 'train'",
     "output_type": "error",
     "traceback": [
      "\u001b[0;31m---------------------------------------------------------------------------\u001b[0m",
      "\u001b[0;31mAttributeError\u001b[0m                            Traceback (most recent call last)",
      "\u001b[0;32m<ipython-input-14-b1f962b04f2e>\u001b[0m in \u001b[0;36m<module>\u001b[0;34m()\u001b[0m\n\u001b[0;32m----> 1\u001b[0;31m \u001b[0msaver\u001b[0m \u001b[0;34m=\u001b[0m \u001b[0mdTest\u001b[0m\u001b[0;34m.\u001b[0m\u001b[0mtrain\u001b[0m\u001b[0;34m.\u001b[0m\u001b[0mSaver\u001b[0m\u001b[0;34m(\u001b[0m\u001b[0;34m)\u001b[0m\u001b[0;34m\u001b[0m\u001b[0m\n\u001b[0m",
      "\u001b[0;31mAttributeError\u001b[0m: DigitRecognition instance has no attribute 'train'"
     ]
    }
   ],
   "source": [
    "saver = dTest.tf.train.Saver()"
   ]
  },
  {
   "cell_type": "code",
   "execution_count": 2,
   "metadata": {
    "collapsed": false
   },
   "outputs": [
    {
     "data": {
      "text/plain": [
       "[1, 2, 3, 4, 5, 6, 7, 8, 9, 10, 11, 12, 13, 14, 15, 16, 17, 18, 19]"
      ]
     },
     "execution_count": 2,
     "metadata": {},
     "output_type": "execute_result"
    }
   ],
   "source": [
    "range(1,20)"
   ]
  },
  {
   "cell_type": "code",
   "execution_count": 14,
   "metadata": {
    "collapsed": false
   },
   "outputs": [
    {
     "data": {
      "text/plain": [
       "[0,\n",
       " 1,\n",
       " 2,\n",
       " 3,\n",
       " 4,\n",
       " 5,\n",
       " 6,\n",
       " 7,\n",
       " 8,\n",
       " 9,\n",
       " 10,\n",
       " 11,\n",
       " 12,\n",
       " 13,\n",
       " 14,\n",
       " 15,\n",
       " 16,\n",
       " 17,\n",
       " 18,\n",
       " 19,\n",
       " 20,\n",
       " 21,\n",
       " 22,\n",
       " 23,\n",
       " 24,\n",
       " 25,\n",
       " 26,\n",
       " 27,\n",
       " 28,\n",
       " 29,\n",
       " 30,\n",
       " 31,\n",
       " 32,\n",
       " 33,\n",
       " 34,\n",
       " 35,\n",
       " 36,\n",
       " 37,\n",
       " 38,\n",
       " 39,\n",
       " 40,\n",
       " 41,\n",
       " 42,\n",
       " 43,\n",
       " 44,\n",
       " 45,\n",
       " 46,\n",
       " 47,\n",
       " 48,\n",
       " 49,\n",
       " 50]"
      ]
     },
     "execution_count": 14,
     "metadata": {},
     "output_type": "execute_result"
    }
   ],
   "source": [
    "range(1000 // 20 + 1)"
   ]
  },
  {
   "cell_type": "code",
   "execution_count": 8,
   "metadata": {
    "collapsed": false,
    "scrolled": true
   },
   "outputs": [],
   "source": [
    "#saver.export_meta_graph()"
   ]
  },
  {
   "cell_type": "code",
   "execution_count": 21,
   "metadata": {
    "collapsed": false
   },
   "outputs": [
    {
     "ename": "NameError",
     "evalue": "name 'mnist' is not defined",
     "output_type": "error",
     "traceback": [
      "\u001b[0;31m---------------------------------------------------------------------------\u001b[0m",
      "\u001b[0;31mNameError\u001b[0m                                 Traceback (most recent call last)",
      "\u001b[0;32m<ipython-input-21-8c37ced17060>\u001b[0m in \u001b[0;36m<module>\u001b[0;34m()\u001b[0m\n\u001b[0;32m----> 1\u001b[0;31m \u001b[0msess\u001b[0m\u001b[0;34m.\u001b[0m\u001b[0mrun\u001b[0m\u001b[0;34m(\u001b[0m\u001b[0;34m{\u001b[0m\u001b[0mX\u001b[0m\u001b[0;34m:\u001b[0m \u001b[0mmnist\u001b[0m\u001b[0;34m.\u001b[0m\u001b[0mtest\u001b[0m\u001b[0;34m.\u001b[0m\u001b[0mimages\u001b[0m\u001b[0;34m,\u001b[0m \u001b[0mY_\u001b[0m\u001b[0;34m:\u001b[0m \u001b[0mmnist\u001b[0m\u001b[0;34m.\u001b[0m\u001b[0mtest\u001b[0m\u001b[0;34m.\u001b[0m\u001b[0mlabels\u001b[0m\u001b[0;34m,\u001b[0m \u001b[0mpkeep\u001b[0m\u001b[0;34m:\u001b[0m \u001b[0;36m1.0\u001b[0m\u001b[0;34m}\u001b[0m\u001b[0;34m)\u001b[0m\u001b[0;34m\u001b[0m\u001b[0m\n\u001b[0m",
      "\u001b[0;31mNameError\u001b[0m: name 'mnist' is not defined"
     ]
    }
   ],
   "source": [
    "sess.run({X: mnist.test.images, Y_: mnist.test.labels, pkeep: 1.0})"
   ]
  },
  {
   "cell_type": "code",
   "execution_count": 17,
   "metadata": {
    "collapsed": false
   },
   "outputs": [
    {
     "ename": "NameError",
     "evalue": "name 'Y' is not defined",
     "output_type": "error",
     "traceback": [
      "\u001b[0;31m---------------------------------------------------------------------------\u001b[0m",
      "\u001b[0;31mNameError\u001b[0m                                 Traceback (most recent call last)",
      "\u001b[0;32m<ipython-input-17-f13782cb3f60>\u001b[0m in \u001b[0;36m<module>\u001b[0;34m()\u001b[0m\n\u001b[0;32m----> 1\u001b[0;31m \u001b[0mcorrect_prediction\u001b[0m \u001b[0;34m=\u001b[0m \u001b[0mtf\u001b[0m\u001b[0;34m.\u001b[0m\u001b[0mequal\u001b[0m\u001b[0;34m(\u001b[0m\u001b[0mtf\u001b[0m\u001b[0;34m.\u001b[0m\u001b[0margmax\u001b[0m\u001b[0;34m(\u001b[0m\u001b[0mY\u001b[0m\u001b[0;34m,\u001b[0m \u001b[0;36m1\u001b[0m\u001b[0;34m)\u001b[0m\u001b[0;34m,\u001b[0m \u001b[0mtf\u001b[0m\u001b[0;34m.\u001b[0m\u001b[0margmax\u001b[0m\u001b[0;34m(\u001b[0m\u001b[0mY_\u001b[0m\u001b[0;34m,\u001b[0m \u001b[0;36m1\u001b[0m\u001b[0;34m)\u001b[0m\u001b[0;34m)\u001b[0m\u001b[0;34m\u001b[0m\u001b[0m\n\u001b[0m\u001b[1;32m      2\u001b[0m \u001b[0maccuracy\u001b[0m \u001b[0;34m=\u001b[0m \u001b[0mtf\u001b[0m\u001b[0;34m.\u001b[0m\u001b[0mreduce_mean\u001b[0m\u001b[0;34m(\u001b[0m\u001b[0mtf\u001b[0m\u001b[0;34m.\u001b[0m\u001b[0mcast\u001b[0m\u001b[0;34m(\u001b[0m\u001b[0mcorrect_prediction\u001b[0m\u001b[0;34m,\u001b[0m \u001b[0mtf\u001b[0m\u001b[0;34m.\u001b[0m\u001b[0mfloat32\u001b[0m\u001b[0;34m)\u001b[0m\u001b[0;34m)\u001b[0m\u001b[0;34m\u001b[0m\u001b[0m\n",
      "\u001b[0;31mNameError\u001b[0m: name 'Y' is not defined"
     ]
    }
   ],
   "source": [
    "correct_prediction = tf.equal(tf.argmax(Y, 1), tf.argmax(Y_, 1))\n",
    "accuracy = tf.reduce_mean(tf.cast(correct_prediction, tf.float32))"
   ]
  },
  {
   "cell_type": "code",
   "execution_count": null,
   "metadata": {
    "collapsed": true
   },
   "outputs": [],
   "source": []
  }
 ],
 "metadata": {
  "kernelspec": {
   "display_name": "Python [Root]",
   "language": "python",
   "name": "Python [Root]"
  },
  "language_info": {
   "codemirror_mode": {
    "name": "ipython",
    "version": 2
   },
   "file_extension": ".py",
   "mimetype": "text/x-python",
   "name": "python",
   "nbconvert_exporter": "python",
   "pygments_lexer": "ipython2",
   "version": "2.7.12"
  }
 },
 "nbformat": 4,
 "nbformat_minor": 0
}
