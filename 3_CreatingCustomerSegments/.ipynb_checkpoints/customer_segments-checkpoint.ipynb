{
 "cells": [
  {
   "cell_type": "markdown",
   "metadata": {},
   "source": [
    "# Creating Customer Segments"
   ]
  },
  {
   "cell_type": "markdown",
   "metadata": {},
   "source": [
    "In this project you, will analyze a dataset containing annual spending amounts for internal structure, to understand the variation in the different types of customers that a wholesale distributor interacts with.\n",
    "\n",
    "Instructions:\n",
    "\n",
    "- Run each code block below by pressing **Shift+Enter**, making sure to implement any steps marked with a TODO.\n",
    "- Answer each question in the space provided by editing the blocks labeled \"Answer:\".\n",
    "- When you are done, submit the completed notebook (.ipynb) with all code blocks executed, as well as a .pdf version (File > Download as)."
   ]
  },
  {
   "cell_type": "code",
   "execution_count": 211,
   "metadata": {
    "collapsed": false
   },
   "outputs": [
    {
     "name": "stdout",
     "output_type": "stream",
     "text": [
      "Dataset has 440 rows, 6 columns\n",
      "   Fresh  Milk  Grocery  Frozen  Detergents_Paper  Delicatessen\n",
      "0  12669  9656     7561     214              2674          1338\n",
      "1   7057  9810     9568    1762              3293          1776\n",
      "2   6353  8808     7684    2405              3516          7844\n",
      "3  13265  1196     4221    6404               507          1788\n",
      "4  22615  5410     7198    3915              1777          5185\n"
     ]
    }
   ],
   "source": [
    "# Import libraries: NumPy, pandas, matplotlib\n",
    "import numpy as np\n",
    "import pandas as pd\n",
    "import matplotlib.pyplot as plt\n",
    "\n",
    "# Tell iPython to include plots inline in the notebook\n",
    "%matplotlib inline\n",
    "\n",
    "# Read dataset\n",
    "data = pd.read_csv(\"wholesale-customers.csv\")\n",
    "print \"Dataset has {} rows, {} columns\".format(*data.shape)\n",
    "print data.head()  # print the first 5 rows"
   ]
  },
  {
   "cell_type": "markdown",
   "metadata": {},
   "source": [
    "## Feature Transformation"
   ]
  },
  {
   "cell_type": "markdown",
   "metadata": {},
   "source": [
    "**1)** In this section you will be using PCA and ICA to start to understand the structure of the data. Before doing any computations, what do you think will show up in your computations? List one or two ideas for what might show up as the first PCA dimensions, or what type of vectors will show up as ICA dimensions."
   ]
  },
  {
   "cell_type": "markdown",
   "metadata": {},
   "source": [
    "        PCA will attempt to combine some of the features to create composite features with minimal information loss, so the first components will account for the  highest proportion of variation in the data.\n",
    "        ICA on the other hand will find dimensions that are independent from each other (not correlated)."
   ]
  },
  {
   "cell_type": "markdown",
   "metadata": {},
   "source": [
    "### PCA"
   ]
  },
  {
   "cell_type": "code",
   "execution_count": 212,
   "metadata": {
    "collapsed": false
   },
   "outputs": [
    {
     "name": "stdout",
     "output_type": "stream",
     "text": [
      "Components:\n",
      "\n",
      "   Fresh   Milk  Grocery  Frozen  Detergents_Paper  Delicatessen\n",
      "0 -0.977 -0.121   -0.062  -0.152             0.007        -0.068\n",
      "1 -0.111  0.516    0.765  -0.019             0.365         0.057\n",
      "2 -0.179  0.510   -0.276   0.714            -0.204         0.283\n",
      "3 -0.042 -0.646    0.375   0.646             0.149        -0.020\n",
      "4  0.016  0.203   -0.160   0.220             0.208        -0.917\n",
      "5 -0.016  0.033    0.411  -0.013            -0.871        -0.265\n",
      "\n",
      "Explained Variance by Component:\n",
      "[ 0.45961362  0.40517227  0.07003008  0.04402344  0.01502212  0.00613848]  - Total: 1.0\n"
     ]
    }
   ],
   "source": [
    "from sklearn.decomposition import PCA\n",
    "pca = PCA()\n",
    "pca.fit(data)\n",
    "\n",
    "# Print the components and the amount of variance in the data contained in each dimension\n",
    "print 'Components:'\n",
    "print ''\n",
    "df = pd.DataFrame(pca.components_, columns=list(data.columns))\n",
    "print df\n",
    "\n",
    "print ''\n",
    "print 'Explained Variance by Component:'\n",
    "print pca.explained_variance_ratio_ , ' - Total:', sum( pca.explained_variance_ratio_)"
   ]
  },
  {
   "cell_type": "code",
   "execution_count": 213,
   "metadata": {
    "collapsed": false
   },
   "outputs": [
    {
     "data": {
      "text/plain": [
       "<matplotlib.text.Text at 0x11e16080>"
      ]
     },
     "execution_count": 213,
     "metadata": {},
     "output_type": "execute_result"
    },
    {
     "data": {
      "image/png": "[encoded data removed]",
      "text/plain": [
       "<matplotlib.figure.Figure at 0x11ce60f0>"
      ]
     },
     "metadata": {},
     "output_type": "display_data"
    }
   ],
   "source": [
    "n = data.shape[1]\n",
    "\n",
    "plt.figure(figsize=(8,5))\n",
    "plt.bar(xrange(1,n+1), pca.explained_variance_ratio_)\n",
    "plt.plot(np.arange(1,7), np.cumsum(pca.explained_variance_ratio_),'r--')\n",
    "plt.ylim(ymax = 1, ymin = 0)\n",
    "plt.xlabel('Principal Component', size=12)\n",
    "plt.ylabel('Explained Variance', size=12)\n",
    "plt.title('Individual and Cumulative Explained Variance for each component')"
   ]
  },
  {
   "cell_type": "markdown",
   "metadata": {},
   "source": [
    "**2)** How quickly does the variance drop off by dimension? If you were to use PCA on this dataset, how many dimensions would you choose for your analysis? Why?"
   ]
  },
  {
   "cell_type": "markdown",
   "metadata": {
    "collapsed": true
   },
   "source": [
    "        The variance explanation drops very quickly in this dataset. Python’s PCA implementation orders the components in terms of explained variance, meaning that the first component explains more variance and the last component explains less variance.\n",
    "        In this example, the first component explains 46% of variance and the second, explains 40%. The next 4 components together explain only 14%.\n",
    "        From looking at the graph and analysing the numbers, we can conclude that the first two principal components retains majority of the variance, so I’d choose only 2 components in this case."
   ]
  },
  {
   "cell_type": "markdown",
   "metadata": {},
   "source": [
    "**3)** What do the dimensions seem to represent? How can you use this information?"
   ]
  },
  {
   "cell_type": "markdown",
   "metadata": {
    "collapsed": true
   },
   "source": [
    "        The overall length of the principal component vector is 1 (the sum of each weight squared), so if we observe a coefficient that has a large magnitude, then we know that most of the weight of that principal component is on that single feature and the rest of the weights will be relatively small. We also tend to see that correlated features have smaller coefficient values, due to the need to “share” weight on each of the features.\n",
    "\n",
    "        So looking at the first Principal Component, we can see that it mainly focus on  the “Fresh” attribute, as the second PC corresponds focus on “Grocery” and “Milk” and some of ”Detergents_Paper”.  Because the first two components  account for most of the explained variance ratio, it means there's a lot of variance in them. That can be confirmed by looking at each columns’ standard deviation (which is the square root of variance) and verifying that “Fresh” and “Grocery” have the higher (12647 and 9503 respectively, while the less variant, Delicatessen, is 2820)\n",
    "\n",
    "        Technically speaking, this means that  the first two components explain the majority of the variance on the data (thus the most information) so, instead of representing our data in 6 dimensions, we can represent it only in two dimensions without much information loss.\n",
    "\n",
    "        From a business point of view, the first PC tells us that there is a lot of variation on the purchase of “fresh” products from shop to shop. We could use this information to focus the shops that buy less “fresh” products and try to make them buy more products of that kind. The Second PC, tells us that stores that buy more 'grocery' items tend also to buy more 'milk' items and to some degree more 'detergents_paper' items as well (“more” because they all have the positive sign).  This is very interesting because we could increase the sales even more by trying to fit a promotion across those 3 classes of products."
   ]
  },
  {
   "cell_type": "markdown",
   "metadata": {},
   "source": [
    "        The code and image bellow shows the 2 dimensinal representaion of PC1 and PC2 with the original feature projections. It needs the seaborn package installed."
   ]
  },
  {
   "cell_type": "code",
   "execution_count": 309,
   "metadata": {
    "collapsed": false
   },
   "outputs": [
    {
     "name": "stdout",
     "output_type": "stream",
     "text": [
      "PC 1 : -0.976536845622 -0.110613856391\n",
      "PC 2 : -0.121184070841 0.515802158666\n"
     ]
    },
    {
     "data": {
      "image/png": "[encoded data removed]",
      "text/plain": [
       "<matplotlib.figure.Figure at 0x1f57ca20>"
      ]
     },
     "metadata": {},
     "output_type": "display_data"
    }
   ],
   "source": [
    "try:\n",
    "    import seaborn as sns\n",
    "    plt.figure(figsize=(14, 12))\n",
    "    plt.ylim(ymax = 60000, ymin = -20000)\n",
    "    plt.xlim(xmax = 15000, xmin = -40000)\n",
    "    sns.regplot(transformed[:, 0], transformed[:, 1], fit_reg=False)\n",
    "    feature_vectors = pca.components_.T\n",
    "    feature_vectors =  feature_vectors[0:2]\n",
    "    arrow_size, text_pos = 2e4, 2.5e4\n",
    "    for i, v in enumerate(feature_vectors):\n",
    "        print 'PC',i+1,':', v[0], v[1]\n",
    "        plt.arrow(0, 0, arrow_size*v[0], arrow_size*v[1], head_width=2000, head_length=1000)    \n",
    "        plt.text(v[0]*text_pos, v[1]*text_pos, df.columns[i], color='r', ha='center', va='center', fontsize=16)\n",
    "    plt.xlabel(\"PC1\", fontsize=14)\n",
    "    plt.ylabel(\"PC2\", fontsize=14)\n",
    "    plt.title(\"PC plane with original feature projections.\", fontsize=18)\n",
    "    plt.show()\n",
    "except ImportError, e:\n",
    "    print 'Module seaborn doesn''t exist. Install it to view the image.'"
   ]
  },
  {
   "cell_type": "markdown",
   "metadata": {},
   "source": [
    "### ICA"
   ]
  },
  {
   "cell_type": "code",
   "execution_count": 286,
   "metadata": {
    "collapsed": false
   },
   "outputs": [
    {
     "name": "stdout",
     "output_type": "stream",
     "text": [
      "Components:\n",
      "\n",
      "   Fresh  Milk  Grocery  Frozen  Detergents_Paper  Delicatessen\n",
      "0   1.09  0.11    -0.74   -5.41              0.26          1.68\n",
      "1  -0.25  1.27    -7.10   -0.13              1.56          0.55\n",
      "2   0.33 -1.93   -10.77    0.73             13.31          1.61\n",
      "3   0.21  7.22    -5.67   -0.16              1.80         -1.68\n",
      "4   5.03 -0.66    -0.75   -0.32              1.16         -0.27\n",
      "5  -0.49 -0.16    -0.56   -0.25              0.24          5.09\n"
     ]
    }
   ],
   "source": [
    "pd.set_option('display.float_format', lambda x: '%.2f' % x)\n",
    "from sklearn.decomposition import FastICA\n",
    "from sklearn import preprocessing\n",
    "\n",
    "ica = FastICA(random_state = 123)\n",
    "# Note: Adjust the data to have center at the origin first!\n",
    "scaled_data = preprocessing.scale(data)\n",
    "ica.fit(scaled_data)\n",
    "\n",
    "# Print the independent components\n",
    "print 'Components:'\n",
    "print ''\n",
    "df = pd.DataFrame(ica.components_*100, columns=list(data.columns))\n",
    "print df"
   ]
  },
  {
   "cell_type": "markdown",
   "metadata": {},
   "source": [
    "**4)** For each vector in the ICA decomposition, write a sentence or two explaining what sort of object or property it corresponds to. What could these components be used for?"
   ]
  },
  {
   "cell_type": "markdown",
   "metadata": {
    "collapsed": true
   },
   "source": [
    "        Within each component, the magnitude of each feature’s coefficient indicates how important it is inside that component vector. Two coefficients with the same sign indicate correlation between them. If they have opposite sign, it implies that customers who buy more from one group buy less from the other.\n",
    "        This information can be used by the marketing department to increase sales by offering discount or promotions on products that relate to one another for example:\n",
    "        \n",
    "        •\tIC1: Indicates purchase of “Frozen” products;\n",
    "        •\tIC2: Indicates purchase of “Grocery” products;\n",
    "        •\tIC3: Indicates purchase of “Grocery” and “Detergent_papers” products, and that they are negatively correlated;\n",
    "        •\tIC4: Indicates the same relationship between “Milk” and “Grocery” as above, but not as strong because the coeficinets are smaller;\n",
    "        •\tIC5: Indicates purchase of “Fresh” products;\n",
    "        •\tIC5: Indicates purchase of “Delicatessen” products;\n",
    "\n",
    "\n",
    "        Bellow is a grphical representation of the independent components:"
   ]
  },
  {
   "cell_type": "code",
   "execution_count": 311,
   "metadata": {
    "collapsed": false
   },
   "outputs": [
    {
     "data": {
      "image/png": "[encoded data removed]",
      "text/plain": [
       "<matplotlib.figure.Figure at 0x1dc446d8>"
      ]
     },
     "metadata": {},
     "output_type": "display_data"
    }
   ],
   "source": [
    "try:\n",
    "    import seaborn as sns\n",
    "    idx=[]\n",
    "    for i in range(1,7):\n",
    "        idx.append('IC'+str(i))\n",
    "    idx\n",
    "\n",
    "    ica_plot = pd.DataFrame(ica.components_*100, columns=list(data.columns), index = idx)\n",
    "\n",
    "    plt.figure(figsize=(10,5))\n",
    "    plt.xticks(rotation=45)\n",
    "    sns.heatmap(ica_plot, annot=True)\n",
    "except ImportError, e:\n",
    "    print 'Module seaborn doesn''t exist. Install it to view the image.'    "
   ]
  },
  {
   "cell_type": "markdown",
   "metadata": {},
   "source": [
    "## Clustering\n",
    "\n",
    "In this section you will choose either K Means clustering or Gaussian Mixed Models clustering, which implements expectation-maximization. Then you will sample elements from the clusters to understand their significance."
   ]
  },
  {
   "cell_type": "markdown",
   "metadata": {},
   "source": [
    "### Choose a Cluster Type\n",
    "\n",
    "**5)** What are the advantages of using K Means clustering or Gaussian Mixture Models?"
   ]
  },
  {
   "cell_type": "markdown",
   "metadata": {},
   "source": [
    "Answer: "
   ]
  },
  {
   "cell_type": "markdown",
   "metadata": {},
   "source": [
    "**6)** Below is some starter code to help you visualize some cluster data. The visualization is based on [this demo](http://scikit-learn.org/stable/auto_examples/cluster/plot_kmeans_digits.html) from the sklearn documentation."
   ]
  },
  {
   "cell_type": "code",
   "execution_count": null,
   "metadata": {
    "collapsed": true
   },
   "outputs": [],
   "source": [
    "# Import clustering modules\n",
    "from sklearn.cluster import KMeans\n",
    "from sklearn.mixture import GMM"
   ]
  },
  {
   "cell_type": "code",
   "execution_count": null,
   "metadata": {
    "collapsed": false
   },
   "outputs": [],
   "source": [
    "# TODO: First we reduce the data to two dimensions using PCA to capture variation\n",
    "reduced_data = ?\n",
    "print reduced_data[:10]  # print upto 10 elements"
   ]
  },
  {
   "cell_type": "code",
   "execution_count": null,
   "metadata": {
    "collapsed": false
   },
   "outputs": [],
   "source": [
    "# TODO: Implement your clustering algorithm here, and fit it to the reduced data for visualization\n",
    "# The visualizer below assumes your clustering object is named 'clusters'\n",
    "\n",
    "clusters = ?\n",
    "print clusters"
   ]
  },
  {
   "cell_type": "code",
   "execution_count": null,
   "metadata": {
    "collapsed": false
   },
   "outputs": [],
   "source": [
    "# Plot the decision boundary by building a mesh grid to populate a graph.\n",
    "x_min, x_max = reduced_data[:, 0].min() - 1, reduced_data[:, 0].max() + 1\n",
    "y_min, y_max = reduced_data[:, 1].min() - 1, reduced_data[:, 1].max() + 1\n",
    "hx = (x_max-x_min)/1000.\n",
    "hy = (y_max-y_min)/1000.\n",
    "xx, yy = np.meshgrid(np.arange(x_min, x_max, hx), np.arange(y_min, y_max, hy))\n",
    "\n",
    "# Obtain labels for each point in mesh. Use last trained model.\n",
    "Z = clusters.predict(np.c_[xx.ravel(), yy.ravel()])"
   ]
  },
  {
   "cell_type": "code",
   "execution_count": null,
   "metadata": {
    "collapsed": false
   },
   "outputs": [],
   "source": [
    "# TODO: Find the centroids for KMeans or the cluster means for GMM \n",
    "\n",
    "centroids = ?\n",
    "print centroids"
   ]
  },
  {
   "cell_type": "code",
   "execution_count": null,
   "metadata": {
    "collapsed": false
   },
   "outputs": [],
   "source": [
    "# Put the result into a color plot\n",
    "Z = Z.reshape(xx.shape)\n",
    "plt.figure(1)\n",
    "plt.clf()\n",
    "plt.imshow(Z, interpolation='nearest',\n",
    "           extent=(xx.min(), xx.max(), yy.min(), yy.max()),\n",
    "           cmap=plt.cm.Paired,\n",
    "           aspect='auto', origin='lower')\n",
    "\n",
    "plt.plot(reduced_data[:, 0], reduced_data[:, 1], 'k.', markersize=2)\n",
    "plt.scatter(centroids[:, 0], centroids[:, 1],\n",
    "            marker='x', s=169, linewidths=3,\n",
    "            color='w', zorder=10)\n",
    "plt.title('Clustering on the wholesale grocery dataset (PCA-reduced data)\\n'\n",
    "          'Centroids are marked with white cross')\n",
    "plt.xlim(x_min, x_max)\n",
    "plt.ylim(y_min, y_max)\n",
    "plt.xticks(())\n",
    "plt.yticks(())\n",
    "plt.show()"
   ]
  },
  {
   "cell_type": "markdown",
   "metadata": {},
   "source": [
    "**7)** What are the central objects in each cluster? Describe them as customers."
   ]
  },
  {
   "cell_type": "markdown",
   "metadata": {
    "collapsed": true
   },
   "source": [
    "Answer: "
   ]
  },
  {
   "cell_type": "markdown",
   "metadata": {},
   "source": [
    "### Conclusions\n",
    "\n",
    "** 8)** Which of these techniques did you feel gave you the most insight into the data?"
   ]
  },
  {
   "cell_type": "markdown",
   "metadata": {
    "collapsed": true
   },
   "source": [
    "Answer: "
   ]
  },
  {
   "cell_type": "markdown",
   "metadata": {
    "collapsed": true
   },
   "source": [
    "**9)** How would you use that technique to help the company design new experiments?"
   ]
  },
  {
   "cell_type": "markdown",
   "metadata": {},
   "source": [
    "Answer: "
   ]
  },
  {
   "cell_type": "markdown",
   "metadata": {},
   "source": [
    "**10)** How would you use that data to help you predict future customer needs?"
   ]
  },
  {
   "cell_type": "markdown",
   "metadata": {},
   "source": [
    "Answer: "
   ]
  }
 ],
 "metadata": {
  "kernelspec": {
   "display_name": "Python 2",
   "language": "python",
   "name": "python2"
  },
  "language_info": {
   "codemirror_mode": {
    "name": "ipython",
    "version": 2
   },
   "file_extension": ".py",
   "mimetype": "text/x-python",
   "name": "python",
   "nbconvert_exporter": "python",
   "pygments_lexer": "ipython2",
   "version": "2.7.11"
  }
 },
 "nbformat": 4,
 "nbformat_minor": 0
}
