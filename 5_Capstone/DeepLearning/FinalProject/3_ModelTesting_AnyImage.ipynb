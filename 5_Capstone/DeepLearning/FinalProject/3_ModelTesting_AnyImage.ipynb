{
 "cells": [
  {
   "cell_type": "code",
   "execution_count": 1,
   "metadata": {
    "collapsed": false
   },
   "outputs": [],
   "source": [
    "import FinalProject as fp"
   ]
  },
  {
   "cell_type": "code",
   "execution_count": 2,
   "metadata": {
    "collapsed": false
   },
   "outputs": [
    {
     "name": "stdout",
     "output_type": "stream",
     "text": [
      "Class Initialized\n"
     ]
    }
   ],
   "source": [
    "dTest = fp.DigitRecognition()"
   ]
  },
  {
   "cell_type": "code",
   "execution_count": 3,
   "metadata": {
    "collapsed": false
   },
   "outputs": [],
   "source": [
    "dTest.create_nn_model()"
   ]
  },
  {
   "cell_type": "code",
   "execution_count": 6,
   "metadata": {
    "collapsed": true
   },
   "outputs": [],
   "source": [
    "#ImageName\n",
    "#Place the Image in the \"test_images\" folder:\n",
    "imageName = 'hand'"
   ]
  },
  {
   "cell_type": "code",
   "execution_count": 7,
   "metadata": {
    "collapsed": false
   },
   "outputs": [
    {
     "name": "stdout",
     "output_type": "stream",
     "text": [
      "13.3978814672 14.9420467478\n",
      "Prediction for  (0, 0, 100)\n",
      "[1118.575, 4]\n",
      "13.655796758 14.4263911271\n",
      "Prediction for  (100, 0, 100)\n",
      "[663.76965, 3]\n",
      "14.8083033442 13.1039234618\n",
      "Prediction for  (200, 0, 100)\n",
      "[937.48303, 2]\n",
      "11.9373760272 14.0446302069\n",
      "Prediction for  (300, 0, 100)\n",
      "[360.07224, 7]\n"
     ]
    }
   ],
   "source": [
    "pred = dTest.testNewImage(imageName)"
   ]
  }
 ],
 "metadata": {
  "kernelspec": {
   "display_name": "Python [Root]",
   "language": "python",
   "name": "Python [Root]"
  },
  "language_info": {
   "codemirror_mode": {
    "name": "ipython",
    "version": 2
   },
   "file_extension": ".py",
   "mimetype": "text/x-python",
   "name": "python",
   "nbconvert_exporter": "python",
   "pygments_lexer": "ipython2",
   "version": "2.7.12"
  }
 },
 "nbformat": 4,
 "nbformat_minor": 0
}
