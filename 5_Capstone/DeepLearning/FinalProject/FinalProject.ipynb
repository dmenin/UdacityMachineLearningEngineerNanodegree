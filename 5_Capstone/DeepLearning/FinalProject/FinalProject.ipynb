{
 "cells": [
  {
   "cell_type": "code",
   "execution_count": 30,
   "metadata": {
    "collapsed": false
   },
   "outputs": [],
   "source": [
    "import FinalProject as fp\n",
    "import FinalProjectAux as fpAux"
   ]
  },
  {
   "cell_type": "code",
   "execution_count": 27,
   "metadata": {
    "collapsed": false
   },
   "outputs": [
    {
     "data": {
      "text/plain": [
       "<module 'FinalProject' from 'FinalProject.py'>"
      ]
     },
     "execution_count": 27,
     "metadata": {},
     "output_type": "execute_result"
    }
   ],
   "source": [
    "reload (FinalProject)"
   ]
  },
  {
   "cell_type": "code",
   "execution_count": 28,
   "metadata": {
    "collapsed": false
   },
   "outputs": [
    {
     "name": "stdout",
     "output_type": "stream",
     "text": [
      "Loading mydata/train-images-idx3-ubyte.mnist\n",
      "Loading mydata/train-labels-idx1-ubyte.mnist\n",
      "Loading mydata/t10k-images-idx3-ubyte.mnist\n",
      "Loading mydata/t10k-labels-idx1-ubyte.mnist\n"
     ]
    }
   ],
   "source": [
    "fp.LoadDataSet()"
   ]
  },
  {
   "cell_type": "code",
   "execution_count": 32,
   "metadata": {
    "collapsed": false
   },
   "outputs": [],
   "source": [
    "fpAux.showSingleImage(fp.mnist.test.images[0])"
   ]
  },
  {
   "cell_type": "code",
   "execution_count": 9,
   "metadata": {
    "collapsed": false
   },
   "outputs": [
    {
     "name": "stdout",
     "output_type": "stream",
     "text": [
      "0: accuracy:0.07 loss: 252.419 (lr:0.003)\n",
      "0: ********* epoch 1 ********* test accuracy:0.1051 test loss: 244.842\n",
      "20: accuracy:0.8 loss: 64.1243 (lr:0.00297114451787)\n",
      "40: accuracy:0.81 loss: 52.9721 (lr:0.00294257615259)\n",
      "60: accuracy:0.89 loss: 30.175 (lr:0.00291429204729)\n",
      "80: accuracy:0.92 loss: 25.9108 (lr:0.00288628937354)\n",
      "100: accuracy:0.97 loss: 11.1548 (lr:0.00285856533105)\n",
      "100: ********* epoch 1 ********* test accuracy:0.9413 test loss: 19.1718\n"
     ]
    }
   ],
   "source": [
    "FinalProject.Start(100)"
   ]
  },
  {
   "cell_type": "code",
   "execution_count": 11,
   "metadata": {
    "collapsed": true
   },
   "outputs": [],
   "source": [
    "foo = FinalProject"
   ]
  },
  {
   "cell_type": "code",
   "execution_count": 12,
   "metadata": {
    "collapsed": false
   },
   "outputs": [
    {
     "data": {
      "text/plain": [
       "<module 'FinalProject' from 'FinalProject.py'>"
      ]
     },
     "execution_count": 12,
     "metadata": {},
     "output_type": "execute_result"
    }
   ],
   "source": [
    "foo\n"
   ]
  },
  {
   "cell_type": "code",
   "execution_count": 13,
   "metadata": {
    "collapsed": false
   },
   "outputs": [
    {
     "data": {
      "text/plain": [
       "<module 'mnist_data' from 'mnist_data.pyc'>"
      ]
     },
     "execution_count": 13,
     "metadata": {},
     "output_type": "execute_result"
    }
   ],
   "source": [
    "foo.mnist_data."
   ]
  },
  {
   "cell_type": "code",
   "execution_count": null,
   "metadata": {
    "collapsed": true
   },
   "outputs": [],
   "source": []
  }
 ],
 "metadata": {
  "kernelspec": {
   "display_name": "Python [Root]",
   "language": "python",
   "name": "Python [Root]"
  },
  "language_info": {
   "codemirror_mode": {
    "name": "ipython",
    "version": 2
   },
   "file_extension": ".py",
   "mimetype": "text/x-python",
   "name": "python",
   "nbconvert_exporter": "python",
   "pygments_lexer": "ipython2",
   "version": "2.7.12"
  }
 },
 "nbformat": 4,
 "nbformat_minor": 0
}
